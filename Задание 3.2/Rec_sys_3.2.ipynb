{
 "cells": [
  {
   "cell_type": "markdown",
   "metadata": {},
   "source": [
    "# Рекоммендательные системы\n",
    "### Дуботолкова Натали, 3530903/70301\n",
    "### Вариант 7"
   ]
  },
  {
   "cell_type": "markdown",
   "metadata": {},
   "source": [
    "2.1 Для заданного пользователя (совпадает с вашим номером в таблице) рассчитать оценки для всех фильмов, которые он не оценил."
   ]
  },
  {
   "cell_type": "code",
   "execution_count": 1,
   "metadata": {},
   "outputs": [],
   "source": [
    "import numpy as np\n",
    "import pandas as pd\n",
    "import json\n",
    "import math as m\n",
    "%matplotlib inline"
   ]
  },
  {
   "cell_type": "code",
   "execution_count": 2,
   "metadata": {},
   "outputs": [],
   "source": [
    "data = pd.read_csv('data.csv', index_col=0)"
   ]
  },
  {
   "cell_type": "code",
   "execution_count": 3,
   "metadata": {
    "scrolled": true
   },
   "outputs": [
    {
     "data": {
      "text/html": [
       "<div>\n",
       "<style scoped>\n",
       "    .dataframe tbody tr th:only-of-type {\n",
       "        vertical-align: middle;\n",
       "    }\n",
       "\n",
       "    .dataframe tbody tr th {\n",
       "        vertical-align: top;\n",
       "    }\n",
       "\n",
       "    .dataframe thead th {\n",
       "        text-align: right;\n",
       "    }\n",
       "</style>\n",
       "<table border=\"1\" class=\"dataframe\">\n",
       "  <thead>\n",
       "    <tr style=\"text-align: right;\">\n",
       "      <th></th>\n",
       "      <th>Movie 1</th>\n",
       "      <th>Movie 2</th>\n",
       "      <th>Movie 3</th>\n",
       "      <th>Movie 4</th>\n",
       "      <th>Movie 5</th>\n",
       "      <th>Movie 6</th>\n",
       "      <th>Movie 7</th>\n",
       "      <th>Movie 8</th>\n",
       "      <th>Movie 9</th>\n",
       "      <th>Movie 10</th>\n",
       "      <th>...</th>\n",
       "      <th>Movie 21</th>\n",
       "      <th>Movie 22</th>\n",
       "      <th>Movie 23</th>\n",
       "      <th>Movie 24</th>\n",
       "      <th>Movie 25</th>\n",
       "      <th>Movie 26</th>\n",
       "      <th>Movie 27</th>\n",
       "      <th>Movie 28</th>\n",
       "      <th>Movie 29</th>\n",
       "      <th>Movie 30</th>\n",
       "    </tr>\n",
       "  </thead>\n",
       "  <tbody>\n",
       "    <tr>\n",
       "      <th>User 1</th>\n",
       "      <td>-1</td>\n",
       "      <td>4</td>\n",
       "      <td>1</td>\n",
       "      <td>5</td>\n",
       "      <td>-1</td>\n",
       "      <td>-1</td>\n",
       "      <td>-1</td>\n",
       "      <td>1</td>\n",
       "      <td>3</td>\n",
       "      <td>-1</td>\n",
       "      <td>...</td>\n",
       "      <td>2</td>\n",
       "      <td>4</td>\n",
       "      <td>-1</td>\n",
       "      <td>-1</td>\n",
       "      <td>3</td>\n",
       "      <td>4</td>\n",
       "      <td>-1</td>\n",
       "      <td>2</td>\n",
       "      <td>4</td>\n",
       "      <td>1</td>\n",
       "    </tr>\n",
       "    <tr>\n",
       "      <th>User 2</th>\n",
       "      <td>4</td>\n",
       "      <td>5</td>\n",
       "      <td>2</td>\n",
       "      <td>3</td>\n",
       "      <td>3</td>\n",
       "      <td>4</td>\n",
       "      <td>-1</td>\n",
       "      <td>5</td>\n",
       "      <td>3</td>\n",
       "      <td>2</td>\n",
       "      <td>...</td>\n",
       "      <td>-1</td>\n",
       "      <td>2</td>\n",
       "      <td>-1</td>\n",
       "      <td>3</td>\n",
       "      <td>1</td>\n",
       "      <td>5</td>\n",
       "      <td>-1</td>\n",
       "      <td>5</td>\n",
       "      <td>2</td>\n",
       "      <td>2</td>\n",
       "    </tr>\n",
       "    <tr>\n",
       "      <th>User 3</th>\n",
       "      <td>4</td>\n",
       "      <td>2</td>\n",
       "      <td>5</td>\n",
       "      <td>4</td>\n",
       "      <td>1</td>\n",
       "      <td>5</td>\n",
       "      <td>-1</td>\n",
       "      <td>3</td>\n",
       "      <td>5</td>\n",
       "      <td>2</td>\n",
       "      <td>...</td>\n",
       "      <td>4</td>\n",
       "      <td>-1</td>\n",
       "      <td>5</td>\n",
       "      <td>4</td>\n",
       "      <td>5</td>\n",
       "      <td>1</td>\n",
       "      <td>2</td>\n",
       "      <td>1</td>\n",
       "      <td>-1</td>\n",
       "      <td>3</td>\n",
       "    </tr>\n",
       "    <tr>\n",
       "      <th>User 4</th>\n",
       "      <td>5</td>\n",
       "      <td>-1</td>\n",
       "      <td>2</td>\n",
       "      <td>-1</td>\n",
       "      <td>-1</td>\n",
       "      <td>2</td>\n",
       "      <td>4</td>\n",
       "      <td>3</td>\n",
       "      <td>2</td>\n",
       "      <td>3</td>\n",
       "      <td>...</td>\n",
       "      <td>-1</td>\n",
       "      <td>2</td>\n",
       "      <td>2</td>\n",
       "      <td>2</td>\n",
       "      <td>2</td>\n",
       "      <td>5</td>\n",
       "      <td>3</td>\n",
       "      <td>2</td>\n",
       "      <td>5</td>\n",
       "      <td>5</td>\n",
       "    </tr>\n",
       "    <tr>\n",
       "      <th>User 5</th>\n",
       "      <td>4</td>\n",
       "      <td>3</td>\n",
       "      <td>3</td>\n",
       "      <td>3</td>\n",
       "      <td>5</td>\n",
       "      <td>3</td>\n",
       "      <td>3</td>\n",
       "      <td>4</td>\n",
       "      <td>5</td>\n",
       "      <td>2</td>\n",
       "      <td>...</td>\n",
       "      <td>4</td>\n",
       "      <td>5</td>\n",
       "      <td>2</td>\n",
       "      <td>-1</td>\n",
       "      <td>3</td>\n",
       "      <td>5</td>\n",
       "      <td>1</td>\n",
       "      <td>-1</td>\n",
       "      <td>5</td>\n",
       "      <td>-1</td>\n",
       "    </tr>\n",
       "    <tr>\n",
       "      <th>User 6</th>\n",
       "      <td>2</td>\n",
       "      <td>-1</td>\n",
       "      <td>3</td>\n",
       "      <td>3</td>\n",
       "      <td>3</td>\n",
       "      <td>3</td>\n",
       "      <td>4</td>\n",
       "      <td>2</td>\n",
       "      <td>-1</td>\n",
       "      <td>1</td>\n",
       "      <td>...</td>\n",
       "      <td>5</td>\n",
       "      <td>-1</td>\n",
       "      <td>1</td>\n",
       "      <td>3</td>\n",
       "      <td>-1</td>\n",
       "      <td>4</td>\n",
       "      <td>4</td>\n",
       "      <td>5</td>\n",
       "      <td>1</td>\n",
       "      <td>2</td>\n",
       "    </tr>\n",
       "    <tr>\n",
       "      <th>User 7</th>\n",
       "      <td>4</td>\n",
       "      <td>1</td>\n",
       "      <td>4</td>\n",
       "      <td>4</td>\n",
       "      <td>1</td>\n",
       "      <td>4</td>\n",
       "      <td>5</td>\n",
       "      <td>2</td>\n",
       "      <td>2</td>\n",
       "      <td>-1</td>\n",
       "      <td>...</td>\n",
       "      <td>2</td>\n",
       "      <td>5</td>\n",
       "      <td>1</td>\n",
       "      <td>3</td>\n",
       "      <td>4</td>\n",
       "      <td>-1</td>\n",
       "      <td>4</td>\n",
       "      <td>3</td>\n",
       "      <td>1</td>\n",
       "      <td>4</td>\n",
       "    </tr>\n",
       "  </tbody>\n",
       "</table>\n",
       "<p>7 rows × 30 columns</p>\n",
       "</div>"
      ],
      "text/plain": [
       "         Movie 1   Movie 2   Movie 3   Movie 4   Movie 5   Movie 6   Movie 7  \\\n",
       "User 1        -1         4         1         5        -1        -1        -1   \n",
       "User 2         4         5         2         3         3         4        -1   \n",
       "User 3         4         2         5         4         1         5        -1   \n",
       "User 4         5        -1         2        -1        -1         2         4   \n",
       "User 5         4         3         3         3         5         3         3   \n",
       "User 6         2        -1         3         3         3         3         4   \n",
       "User 7         4         1         4         4         1         4         5   \n",
       "\n",
       "         Movie 8   Movie 9   Movie 10  ...   Movie 21   Movie 22   Movie 23  \\\n",
       "User 1         1         3         -1  ...          2          4         -1   \n",
       "User 2         5         3          2  ...         -1          2         -1   \n",
       "User 3         3         5          2  ...          4         -1          5   \n",
       "User 4         3         2          3  ...         -1          2          2   \n",
       "User 5         4         5          2  ...          4          5          2   \n",
       "User 6         2        -1          1  ...          5         -1          1   \n",
       "User 7         2         2         -1  ...          2          5          1   \n",
       "\n",
       "         Movie 24   Movie 25   Movie 26   Movie 27   Movie 28   Movie 29  \\\n",
       "User 1         -1          3          4         -1          2          4   \n",
       "User 2          3          1          5         -1          5          2   \n",
       "User 3          4          5          1          2          1         -1   \n",
       "User 4          2          2          5          3          2          5   \n",
       "User 5         -1          3          5          1         -1          5   \n",
       "User 6          3         -1          4          4          5          1   \n",
       "User 7          3          4         -1          4          3          1   \n",
       "\n",
       "         Movie 30  \n",
       "User 1          1  \n",
       "User 2          2  \n",
       "User 3          3  \n",
       "User 4          5  \n",
       "User 5         -1  \n",
       "User 6          2  \n",
       "User 7          4  \n",
       "\n",
       "[7 rows x 30 columns]"
      ]
     },
     "execution_count": 3,
     "metadata": {},
     "output_type": "execute_result"
    }
   ],
   "source": [
    "data.head(7)"
   ]
  },
  {
   "cell_type": "code",
   "execution_count": 4,
   "metadata": {},
   "outputs": [],
   "source": [
    "k = 4\n",
    "my_user = 6"
   ]
  },
  {
   "cell_type": "code",
   "execution_count": 5,
   "metadata": {},
   "outputs": [],
   "source": [
    "def sim(u,v):\n",
    "    sum_uv, sum_u, sum_v = 0, 0, 0\n",
    "    for i in range (len(u)):\n",
    "        if u[i]>0 and v[i]>0:\n",
    "                sum_u += u[i]**2\n",
    "                sum_v += v[i]**2\n",
    "                sum_uv += v[i]*u[i]             \n",
    "    return round((sum_uv/(m.sqrt(sum_u)*m.sqrt(sum_v))),3)\n",
    "        "
   ]
  },
  {
   "cell_type": "code",
   "execution_count": 6,
   "metadata": {},
   "outputs": [],
   "source": [
    "all_similarities = np.zeros((40, 40))"
   ]
  },
  {
   "cell_type": "code",
   "execution_count": 7,
   "metadata": {},
   "outputs": [],
   "source": [
    "for i in range(data.shape[0]):\n",
    "    list_of_U = list(data.iloc[i])\n",
    "    j = i+1\n",
    "    for j in range(j, data.shape[0]):\n",
    "        list_of_V = list(data.iloc[j])\n",
    "        all_similarities[i, j] = sim(list_of_U, list_of_V)\n",
    "        all_similarities[j, i] = all_similarities[i, j]"
   ]
  },
  {
   "cell_type": "code",
   "execution_count": 8,
   "metadata": {},
   "outputs": [
    {
     "data": {
      "text/plain": [
       "array([[0.   , 0.79 , 0.741, ..., 0.891, 0.745, 0.83 ],\n",
       "       [0.79 , 0.   , 0.742, ..., 0.852, 0.766, 0.835],\n",
       "       [0.741, 0.742, 0.   , ..., 0.812, 0.806, 0.729],\n",
       "       ...,\n",
       "       [0.891, 0.852, 0.812, ..., 0.   , 0.809, 0.886],\n",
       "       [0.745, 0.766, 0.806, ..., 0.809, 0.   , 0.799],\n",
       "       [0.83 , 0.835, 0.729, ..., 0.886, 0.799, 0.   ]])"
      ]
     },
     "execution_count": 8,
     "metadata": {},
     "output_type": "execute_result"
    }
   ],
   "source": [
    "all_similarities #матрица сходств всех пользователей"
   ]
  },
  {
   "cell_type": "code",
   "execution_count": 9,
   "metadata": {},
   "outputs": [],
   "source": [
    "my_similarities = all_similarities[my_user] #матрица сходств для моего пользователя (7-го)"
   ]
  },
  {
   "cell_type": "code",
   "execution_count": 10,
   "metadata": {},
   "outputs": [
    {
     "data": {
      "text/plain": [
       "array([0.838, 0.823, 0.854, 0.833, 0.831, 0.882, 0.   , 0.849, 0.743,\n",
       "       0.796, 0.755, 0.896, 0.843, 0.774, 0.769, 0.862, 0.773, 0.848,\n",
       "       0.886, 0.8  , 0.914, 0.802, 0.865, 0.805, 0.829, 0.802, 0.828,\n",
       "       0.824, 0.89 , 0.898, 0.862, 0.871, 0.807, 0.883, 0.82 , 0.844,\n",
       "       0.828, 0.871, 0.795, 0.866])"
      ]
     },
     "execution_count": 10,
     "metadata": {},
     "output_type": "execute_result"
    }
   ],
   "source": [
    "my_similarities"
   ]
  },
  {
   "cell_type": "code",
   "execution_count": 11,
   "metadata": {},
   "outputs": [
    {
     "data": {
      "text/plain": [
       "array([28, 11, 29, 20], dtype=int32)"
      ]
     },
     "execution_count": 11,
     "metadata": {},
     "output_type": "execute_result"
    }
   ],
   "source": [
    "my_likeminded = my_similarities.argsort()[-k:]\n",
    "my_likeminded #массив индексов четырёх людей, у кого со мной наибольшее сходство"
   ]
  },
  {
   "cell_type": "code",
   "execution_count": 12,
   "metadata": {},
   "outputs": [],
   "source": [
    "#средняя оценка пользователя u\n",
    "def average(u):\n",
    "    sum_u = 0\n",
    "    counter = 0\n",
    "    for i in range (len(u)):\n",
    "        if u[i]>0:\n",
    "            counter += 1\n",
    "            sum_u += u[i]\n",
    "    return round((sum_u/counter),3)"
   ]
  },
  {
   "cell_type": "code",
   "execution_count": 13,
   "metadata": {},
   "outputs": [
    {
     "data": {
      "text/plain": [
       "[9, 11, 16, 17, 25]"
      ]
     },
     "execution_count": 13,
     "metadata": {},
     "output_type": "execute_result"
    }
   ],
   "source": [
    "#находим фильмы (их индексы), которые пользователь ещё не смотрел\n",
    "d_user = data.iloc[my_user]\n",
    "user_films = []\n",
    "for index, i in enumerate(d_user):\n",
    "    if i<0:\n",
    "        user_films.append(index)\n",
    "user_films    "
   ]
  },
  {
   "cell_type": "code",
   "execution_count": 14,
   "metadata": {},
   "outputs": [],
   "source": [
    "# расчёт оценки на конкретный фильм\n",
    "def r_ui(film):\n",
    "    list_of_U = list(data.iloc[my_user])\n",
    "    r_u = average(list_of_U)\n",
    "    sum_up, sum_down = 0, 0\n",
    "    for v in my_likeminded:\n",
    "        if(data.iloc[v,film]>0):\n",
    "            list_of_V = list(data.iloc[v])\n",
    "            _sim = my_similarities[v]\n",
    "            sum_up += round(_sim*(data.iloc[v,film]-average(list_of_V)),3)\n",
    "            sum_down += abs(_sim)\n",
    "    return round((r_u + sum_up/sum_down),3)"
   ]
  },
  {
   "cell_type": "code",
   "execution_count": 15,
   "metadata": {},
   "outputs": [
    {
     "data": {
      "text/plain": [
       "{'movie 10: ': 2.14,\n",
       " 'movie 12: ': 3.396,\n",
       " 'movie 17: ': 1.288,\n",
       " 'movie 18: ': 3.214,\n",
       " 'movie 26: ': 4.639}"
      ]
     },
     "execution_count": 15,
     "metadata": {},
     "output_type": "execute_result"
    }
   ],
   "source": [
    "list_of_U = list(data.iloc[my_user])\n",
    "list_res = {}\n",
    "# находим индексы непросматриваемых фильмов и пытаемся предсказать оценку\n",
    "for idx, num in enumerate(list_of_U):\n",
    "        if num<0:\n",
    "            list_res['movie ' + str(idx+1) + ': '] = r_ui(idx)\n",
    "list_res"
   ]
  },
  {
   "cell_type": "markdown",
   "metadata": {},
   "source": [
    "2. Порекомендовать заданному пользователю 1 фильм, который он посмотрел бы в выходной дома, если такой фильм есть в данных."
   ]
  },
  {
   "cell_type": "markdown",
   "metadata": {},
   "source": [
    "Я бы вообще не советовала ему ничего смотреть - у него слишком низкий средний балл, (~2,3) Так что высока вероятность, что предложенные фильмы ему тоже не понравятся.\n",
    "Однако, попробуем посмотреть, какие фильмы смотрели по выходным дома те 4 человека, которые имеют с ним +- такой же вкус и выберем фильм с наибольшим рейтингом."
   ]
  },
  {
   "cell_type": "code",
   "execution_count": 16,
   "metadata": {},
   "outputs": [],
   "source": [
    "days = pd.read_csv(\"context_day.csv\", index_col=0)\n",
    "places = pd.read_csv(\"context_place.csv\", index_col=0)"
   ]
  },
  {
   "cell_type": "code",
   "execution_count": 17,
   "metadata": {},
   "outputs": [
    {
     "data": {
      "text/html": [
       "<div>\n",
       "<style scoped>\n",
       "    .dataframe tbody tr th:only-of-type {\n",
       "        vertical-align: middle;\n",
       "    }\n",
       "\n",
       "    .dataframe tbody tr th {\n",
       "        vertical-align: top;\n",
       "    }\n",
       "\n",
       "    .dataframe thead th {\n",
       "        text-align: right;\n",
       "    }\n",
       "</style>\n",
       "<table border=\"1\" class=\"dataframe\">\n",
       "  <thead>\n",
       "    <tr style=\"text-align: right;\">\n",
       "      <th></th>\n",
       "      <th>Movie 1</th>\n",
       "      <th>Movie 2</th>\n",
       "      <th>Movie 3</th>\n",
       "      <th>Movie 4</th>\n",
       "      <th>Movie 5</th>\n",
       "      <th>Movie 6</th>\n",
       "      <th>Movie 7</th>\n",
       "      <th>Movie 8</th>\n",
       "      <th>Movie 9</th>\n",
       "      <th>Movie 10</th>\n",
       "      <th>...</th>\n",
       "      <th>Movie 21</th>\n",
       "      <th>Movie 22</th>\n",
       "      <th>Movie 23</th>\n",
       "      <th>Movie 24</th>\n",
       "      <th>Movie 25</th>\n",
       "      <th>Movie 26</th>\n",
       "      <th>Movie 27</th>\n",
       "      <th>Movie 28</th>\n",
       "      <th>Movie 29</th>\n",
       "      <th>Movie 30</th>\n",
       "    </tr>\n",
       "  </thead>\n",
       "  <tbody>\n",
       "    <tr>\n",
       "      <th>User 1</th>\n",
       "      <td>-1</td>\n",
       "      <td>Thu</td>\n",
       "      <td>Tue</td>\n",
       "      <td>Mon</td>\n",
       "      <td>-1</td>\n",
       "      <td>-1</td>\n",
       "      <td>-1</td>\n",
       "      <td>Tue</td>\n",
       "      <td>Sun</td>\n",
       "      <td>-1</td>\n",
       "      <td>...</td>\n",
       "      <td>Thu</td>\n",
       "      <td>Thu</td>\n",
       "      <td>-1</td>\n",
       "      <td>-1</td>\n",
       "      <td>Sun</td>\n",
       "      <td>Sat</td>\n",
       "      <td>-1</td>\n",
       "      <td>Wed</td>\n",
       "      <td>Wed</td>\n",
       "      <td>Thu</td>\n",
       "    </tr>\n",
       "    <tr>\n",
       "      <th>User 2</th>\n",
       "      <td>Mon</td>\n",
       "      <td>Wed</td>\n",
       "      <td>Mon</td>\n",
       "      <td>Sat</td>\n",
       "      <td>Sat</td>\n",
       "      <td>Thu</td>\n",
       "      <td>-1</td>\n",
       "      <td>Mon</td>\n",
       "      <td>Fri</td>\n",
       "      <td>Thu</td>\n",
       "      <td>...</td>\n",
       "      <td>-1</td>\n",
       "      <td>Sun</td>\n",
       "      <td>-1</td>\n",
       "      <td>Mon</td>\n",
       "      <td>Mon</td>\n",
       "      <td>Fri</td>\n",
       "      <td>-1</td>\n",
       "      <td>Sun</td>\n",
       "      <td>Tue</td>\n",
       "      <td>Wed</td>\n",
       "    </tr>\n",
       "    <tr>\n",
       "      <th>User 3</th>\n",
       "      <td>Tue</td>\n",
       "      <td>Wed</td>\n",
       "      <td>Sat</td>\n",
       "      <td>Tue</td>\n",
       "      <td>Sat</td>\n",
       "      <td>Mon</td>\n",
       "      <td>-1</td>\n",
       "      <td>Thu</td>\n",
       "      <td>Wed</td>\n",
       "      <td>Thu</td>\n",
       "      <td>...</td>\n",
       "      <td>Tue</td>\n",
       "      <td>-1</td>\n",
       "      <td>Wed</td>\n",
       "      <td>Thu</td>\n",
       "      <td>Tue</td>\n",
       "      <td>Thu</td>\n",
       "      <td>Wed</td>\n",
       "      <td>Wed</td>\n",
       "      <td>-1</td>\n",
       "      <td>Sun</td>\n",
       "    </tr>\n",
       "    <tr>\n",
       "      <th>User 4</th>\n",
       "      <td>Mon</td>\n",
       "      <td>-1</td>\n",
       "      <td>Wed</td>\n",
       "      <td>-1</td>\n",
       "      <td>-1</td>\n",
       "      <td>Sun</td>\n",
       "      <td>Sat</td>\n",
       "      <td>Mon</td>\n",
       "      <td>Mon</td>\n",
       "      <td>Wed</td>\n",
       "      <td>...</td>\n",
       "      <td>-1</td>\n",
       "      <td>Sun</td>\n",
       "      <td>Fri</td>\n",
       "      <td>Sat</td>\n",
       "      <td>Thu</td>\n",
       "      <td>Sat</td>\n",
       "      <td>Fri</td>\n",
       "      <td>Fri</td>\n",
       "      <td>Sat</td>\n",
       "      <td>Sun</td>\n",
       "    </tr>\n",
       "    <tr>\n",
       "      <th>User 5</th>\n",
       "      <td>Thu</td>\n",
       "      <td>Fri</td>\n",
       "      <td>Wed</td>\n",
       "      <td>Fri</td>\n",
       "      <td>Mon</td>\n",
       "      <td>Thu</td>\n",
       "      <td>Sat</td>\n",
       "      <td>Tue</td>\n",
       "      <td>Thu</td>\n",
       "      <td>Fri</td>\n",
       "      <td>...</td>\n",
       "      <td>Fri</td>\n",
       "      <td>Fri</td>\n",
       "      <td>Mon</td>\n",
       "      <td>-1</td>\n",
       "      <td>Wed</td>\n",
       "      <td>Mon</td>\n",
       "      <td>Sat</td>\n",
       "      <td>-1</td>\n",
       "      <td>Wed</td>\n",
       "      <td>-1</td>\n",
       "    </tr>\n",
       "  </tbody>\n",
       "</table>\n",
       "<p>5 rows × 30 columns</p>\n",
       "</div>"
      ],
      "text/plain": [
       "        Movie 1  Movie 2  Movie 3  Movie 4  Movie 5  Movie 6  Movie 7  \\\n",
       "User 1       -1      Thu      Tue      Mon       -1       -1       -1   \n",
       "User 2      Mon      Wed      Mon      Sat      Sat      Thu       -1   \n",
       "User 3      Tue      Wed      Sat      Tue      Sat      Mon       -1   \n",
       "User 4      Mon       -1      Wed       -1       -1      Sun      Sat   \n",
       "User 5      Thu      Fri      Wed      Fri      Mon      Thu      Sat   \n",
       "\n",
       "        Movie 8  Movie 9  Movie 10  ...  Movie 21  Movie 22  Movie 23  \\\n",
       "User 1      Tue      Sun        -1  ...       Thu       Thu        -1   \n",
       "User 2      Mon      Fri       Thu  ...        -1       Sun        -1   \n",
       "User 3      Thu      Wed       Thu  ...       Tue        -1       Wed   \n",
       "User 4      Mon      Mon       Wed  ...        -1       Sun       Fri   \n",
       "User 5      Tue      Thu       Fri  ...       Fri       Fri       Mon   \n",
       "\n",
       "        Movie 24  Movie 25  Movie 26  Movie 27  Movie 28  Movie 29  Movie 30  \n",
       "User 1        -1       Sun       Sat        -1       Wed       Wed       Thu  \n",
       "User 2       Mon       Mon       Fri        -1       Sun       Tue       Wed  \n",
       "User 3       Thu       Tue       Thu       Wed       Wed        -1       Sun  \n",
       "User 4       Sat       Thu       Sat       Fri       Fri       Sat       Sun  \n",
       "User 5        -1       Wed       Mon       Sat        -1       Wed        -1  \n",
       "\n",
       "[5 rows x 30 columns]"
      ]
     },
     "execution_count": 17,
     "metadata": {},
     "output_type": "execute_result"
    }
   ],
   "source": [
    "days.head(5)"
   ]
  },
  {
   "cell_type": "code",
   "execution_count": 18,
   "metadata": {},
   "outputs": [
    {
     "data": {
      "text/html": [
       "<div>\n",
       "<style scoped>\n",
       "    .dataframe tbody tr th:only-of-type {\n",
       "        vertical-align: middle;\n",
       "    }\n",
       "\n",
       "    .dataframe tbody tr th {\n",
       "        vertical-align: top;\n",
       "    }\n",
       "\n",
       "    .dataframe thead th {\n",
       "        text-align: right;\n",
       "    }\n",
       "</style>\n",
       "<table border=\"1\" class=\"dataframe\">\n",
       "  <thead>\n",
       "    <tr style=\"text-align: right;\">\n",
       "      <th></th>\n",
       "      <th>Movie 1</th>\n",
       "      <th>Movie 2</th>\n",
       "      <th>Movie 3</th>\n",
       "      <th>Movie 4</th>\n",
       "      <th>Movie 5</th>\n",
       "      <th>Movie 6</th>\n",
       "      <th>Movie 7</th>\n",
       "      <th>Movie 8</th>\n",
       "      <th>Movie 9</th>\n",
       "      <th>Movie 10</th>\n",
       "      <th>...</th>\n",
       "      <th>Movie 21</th>\n",
       "      <th>Movie 22</th>\n",
       "      <th>Movie 23</th>\n",
       "      <th>Movie 24</th>\n",
       "      <th>Movie 25</th>\n",
       "      <th>Movie 26</th>\n",
       "      <th>Movie 27</th>\n",
       "      <th>Movie 28</th>\n",
       "      <th>Movie 29</th>\n",
       "      <th>Movie 30</th>\n",
       "    </tr>\n",
       "    <tr>\n",
       "      <th></th>\n",
       "      <th></th>\n",
       "      <th></th>\n",
       "      <th></th>\n",
       "      <th></th>\n",
       "      <th></th>\n",
       "      <th></th>\n",
       "      <th></th>\n",
       "      <th></th>\n",
       "      <th></th>\n",
       "      <th></th>\n",
       "      <th></th>\n",
       "      <th></th>\n",
       "      <th></th>\n",
       "      <th></th>\n",
       "      <th></th>\n",
       "      <th></th>\n",
       "      <th></th>\n",
       "      <th></th>\n",
       "      <th></th>\n",
       "      <th></th>\n",
       "      <th></th>\n",
       "    </tr>\n",
       "  </thead>\n",
       "  <tbody>\n",
       "    <tr>\n",
       "      <th>User 1</th>\n",
       "      <td>-1</td>\n",
       "      <td>h</td>\n",
       "      <td>h</td>\n",
       "      <td>c</td>\n",
       "      <td>-1</td>\n",
       "      <td>-1</td>\n",
       "      <td>-1</td>\n",
       "      <td>v</td>\n",
       "      <td>h</td>\n",
       "      <td>-1</td>\n",
       "      <td>...</td>\n",
       "      <td>h</td>\n",
       "      <td>c</td>\n",
       "      <td>-1</td>\n",
       "      <td>-1</td>\n",
       "      <td>c</td>\n",
       "      <td>c</td>\n",
       "      <td>-1</td>\n",
       "      <td>v</td>\n",
       "      <td>h</td>\n",
       "      <td>c</td>\n",
       "    </tr>\n",
       "    <tr>\n",
       "      <th>User 2</th>\n",
       "      <td>v</td>\n",
       "      <td>v</td>\n",
       "      <td>v</td>\n",
       "      <td>v</td>\n",
       "      <td>h</td>\n",
       "      <td>c</td>\n",
       "      <td>-1</td>\n",
       "      <td>v</td>\n",
       "      <td>h</td>\n",
       "      <td>c</td>\n",
       "      <td>...</td>\n",
       "      <td>-1</td>\n",
       "      <td>c</td>\n",
       "      <td>-1</td>\n",
       "      <td>c</td>\n",
       "      <td>h</td>\n",
       "      <td>v</td>\n",
       "      <td>-1</td>\n",
       "      <td>v</td>\n",
       "      <td>v</td>\n",
       "      <td>c</td>\n",
       "    </tr>\n",
       "    <tr>\n",
       "      <th>User 3</th>\n",
       "      <td>v</td>\n",
       "      <td>h</td>\n",
       "      <td>c</td>\n",
       "      <td>c</td>\n",
       "      <td>c</td>\n",
       "      <td>c</td>\n",
       "      <td>-1</td>\n",
       "      <td>h</td>\n",
       "      <td>c</td>\n",
       "      <td>v</td>\n",
       "      <td>...</td>\n",
       "      <td>v</td>\n",
       "      <td>-1</td>\n",
       "      <td>v</td>\n",
       "      <td>v</td>\n",
       "      <td>h</td>\n",
       "      <td>h</td>\n",
       "      <td>h</td>\n",
       "      <td>v</td>\n",
       "      <td>-1</td>\n",
       "      <td>v</td>\n",
       "    </tr>\n",
       "    <tr>\n",
       "      <th>User 4</th>\n",
       "      <td>v</td>\n",
       "      <td>-1</td>\n",
       "      <td>h</td>\n",
       "      <td>-1</td>\n",
       "      <td>-1</td>\n",
       "      <td>h</td>\n",
       "      <td>v</td>\n",
       "      <td>v</td>\n",
       "      <td>c</td>\n",
       "      <td>h</td>\n",
       "      <td>...</td>\n",
       "      <td>-1</td>\n",
       "      <td>v</td>\n",
       "      <td>h</td>\n",
       "      <td>h</td>\n",
       "      <td>c</td>\n",
       "      <td>v</td>\n",
       "      <td>c</td>\n",
       "      <td>v</td>\n",
       "      <td>v</td>\n",
       "      <td>c</td>\n",
       "    </tr>\n",
       "    <tr>\n",
       "      <th>User 5</th>\n",
       "      <td>c</td>\n",
       "      <td>c</td>\n",
       "      <td>c</td>\n",
       "      <td>c</td>\n",
       "      <td>v</td>\n",
       "      <td>h</td>\n",
       "      <td>v</td>\n",
       "      <td>v</td>\n",
       "      <td>c</td>\n",
       "      <td>h</td>\n",
       "      <td>...</td>\n",
       "      <td>v</td>\n",
       "      <td>c</td>\n",
       "      <td>v</td>\n",
       "      <td>-1</td>\n",
       "      <td>h</td>\n",
       "      <td>c</td>\n",
       "      <td>v</td>\n",
       "      <td>-1</td>\n",
       "      <td>h</td>\n",
       "      <td>-1</td>\n",
       "    </tr>\n",
       "  </tbody>\n",
       "</table>\n",
       "<p>5 rows × 30 columns</p>\n",
       "</div>"
      ],
      "text/plain": [
       "        Movie 1  Movie 2  Movie 3  Movie 4  Movie 5  Movie 6  Movie 7  \\\n",
       "                                                                        \n",
       "User 1       -1        h        h        c       -1       -1       -1   \n",
       "User 2        v        v        v        v        h        c       -1   \n",
       "User 3        v        h        c        c        c        c       -1   \n",
       "User 4        v       -1        h       -1       -1        h        v   \n",
       "User 5        c        c        c        c        v        h        v   \n",
       "\n",
       "        Movie 8  Movie 9  Movie 10  ...  Movie 21  Movie 22  Movie 23  \\\n",
       "                                    ...                                 \n",
       "User 1        v        h        -1  ...         h         c        -1   \n",
       "User 2        v        h         c  ...        -1         c        -1   \n",
       "User 3        h        c         v  ...         v        -1         v   \n",
       "User 4        v        c         h  ...        -1         v         h   \n",
       "User 5        v        c         h  ...         v         c         v   \n",
       "\n",
       "        Movie 24  Movie 25  Movie 26  Movie 27  Movie 28  Movie 29  Movie 30  \n",
       "                                                                              \n",
       "User 1        -1         c         c        -1         v         h         c  \n",
       "User 2         c         h         v        -1         v         v         c  \n",
       "User 3         v         h         h         h         v        -1         v  \n",
       "User 4         h         c         v         c         v         v         c  \n",
       "User 5        -1         h         c         v        -1         h        -1  \n",
       "\n",
       "[5 rows x 30 columns]"
      ]
     },
     "execution_count": 18,
     "metadata": {},
     "output_type": "execute_result"
    }
   ],
   "source": [
    "places.head(5)"
   ]
  },
  {
   "cell_type": "code",
   "execution_count": 19,
   "metadata": {},
   "outputs": [
    {
     "data": {
      "text/plain": [
       "[9, 11, 16, 17, 25]"
      ]
     },
     "execution_count": 19,
     "metadata": {},
     "output_type": "execute_result"
    }
   ],
   "source": [
    "#находим фильмы (их индексы), которые пользователь ещё не смотрел\n",
    "duser = data.iloc[my_user]\n",
    "user_films = []\n",
    "for index, i in enumerate(duser):\n",
    "    if i<0:\n",
    "        user_films.append(index)\n",
    "user_films"
   ]
  },
  {
   "cell_type": "code",
   "execution_count": 20,
   "metadata": {},
   "outputs": [
    {
     "name": "stdout",
     "output_type": "stream",
     "text": [
      "[1, 2, 3, 4, 5, 6, 8, 9, 10, 12, 13, 14, 15, 16, 17, 19, 20, 21, 24, 25, 27, 28, 29]\n"
     ]
    }
   ],
   "source": [
    "# нашла фильмы, которые наша четверка смотрела по выходным\n",
    "\n",
    "all_films_on_weekend = []\n",
    "for user in my_likeminded:\n",
    "    for idx,el in enumerate(days.iloc[user]):\n",
    "        if (el.strip() == 'Sun' or el.strip() == 'Sat'):\n",
    "            all_films_on_weekend.append(idx+1)\n",
    "auxiliary_list = list(set(all_films_on_weekend))\n",
    "print(auxiliary_list)"
   ]
  },
  {
   "cell_type": "code",
   "execution_count": 21,
   "metadata": {},
   "outputs": [
    {
     "name": "stdout",
     "output_type": "stream",
     "text": [
      "{9, 11, 16, 17, 25}\n",
      "{1, 2, 3, 4, 5, 6, 8, 9, 10, 12, 13, 14, 15, 16, 17, 19, 20, 21, 24, 25, 27, 28, 29}\n",
      "[16, 9, 17, 25]\n"
     ]
    }
   ],
   "source": [
    "#нашли совпадения в этих двух списках\n",
    "films = list(set(user_films) & set(auxiliary_list))\n",
    "print(set(user_films))\n",
    "print(set(auxiliary_list))\n",
    "print(films)"
   ]
  },
  {
   "cell_type": "code",
   "execution_count": 22,
   "metadata": {},
   "outputs": [
    {
     "name": "stdout",
     "output_type": "stream",
     "text": [
      "[1, 2, 3, 5, 6, 7, 9, 10, 11, 13, 14, 18, 19, 20, 23, 24, 25, 26, 27, 28, 30]\n"
     ]
    }
   ],
   "source": [
    "# нашла фильмы, которые наша четверка смотрела дома\n",
    "all_films_at_home = []\n",
    "for user in my_likeminded:\n",
    "    for idx,el in enumerate(places.iloc[user]):\n",
    "        if el.strip() == 'h':\n",
    "            all_films_at_home.append(idx+1)   \n",
    "auxiliary_list = list(set(all_films_at_home))\n",
    "print(auxiliary_list)"
   ]
  },
  {
   "cell_type": "code",
   "execution_count": 23,
   "metadata": {},
   "outputs": [
    {
     "name": "stdout",
     "output_type": "stream",
     "text": [
      "[9, 25]\n"
     ]
    }
   ],
   "source": [
    "#нашли совпадения в этих двух списках\n",
    "films = list(set(films) & set(auxiliary_list))\n",
    "print(films)"
   ]
  },
  {
   "cell_type": "code",
   "execution_count": 24,
   "metadata": {},
   "outputs": [
    {
     "data": {
      "text/plain": [
       "{9: 2.5, 25: 3.75}"
      ]
     },
     "execution_count": 24,
     "metadata": {},
     "output_type": "execute_result"
    }
   ],
   "source": [
    "# посчитала рейтинг каждого фильма, среди единомышленников\n",
    "count = 0\n",
    "raiting_film = {}\n",
    "temp = 0\n",
    "\n",
    "for i in films:\n",
    "    for j in my_likeminded:\n",
    "        raiting = data.iloc[j][i]\n",
    "#         print(i, raiting)\n",
    "        if raiting > 0:\n",
    "            temp += 1\n",
    "            count+= raiting\n",
    "    raiting_film[i] = round(count / temp, 3)\n",
    "\n",
    "raiting_film"
   ]
  },
  {
   "cell_type": "code",
   "execution_count": 25,
   "metadata": {},
   "outputs": [
    {
     "name": "stdout",
     "output_type": "stream",
     "text": [
      "{'movie 26: ': 3.75}\n",
      "{'movie 26: ': 4.639}\n"
     ]
    }
   ],
   "source": [
    "#нашла максимальное значение среди всех фильмов\n",
    "\n",
    "max_val = max(raiting_film.values())\n",
    "dict_res_2 = {}\n",
    "recom_film = {f'movie {k+1}: ':v for k, v in raiting_film.items() if v == max_val}\n",
    "\n",
    "print(recom_film)\n",
    "#Ставим предположительную оценку из тех, что я предстказала ранее\n",
    "for key1, value1 in list_res.items():\n",
    "    for key2, value2 in recom_film.items():\n",
    "        if key2 == key1:\n",
    "            recom_film[key2] = value1\n",
    "print(recom_film)\n",
    "# number_of_film = str(recom_film.keys())\n"
   ]
  },
  {
   "cell_type": "code",
   "execution_count": 26,
   "metadata": {},
   "outputs": [
    {
     "name": "stdout",
     "output_type": "stream",
     "text": [
      "25\n"
     ]
    }
   ],
   "source": [
    "import re\n",
    "number_of_film  = int(re.findall(r'\\d+', str(recom_film.keys()))[0])-1\n",
    "print(number_of_film)\n"
   ]
  },
  {
   "cell_type": "code",
   "execution_count": 27,
   "metadata": {},
   "outputs": [],
   "source": [
    "result = {\"user\": 7, \"1\": list_res, \"2\": recom_film}\n",
    "with open('result.json', 'w', encoding='utf-8') as f:\n",
    "    json.dump(result, f, ensure_ascii=False, indent=4)"
   ]
  },
  {
   "cell_type": "code",
   "execution_count": 28,
   "metadata": {},
   "outputs": [
    {
     "data": {
      "text/html": [
       "<div>\n",
       "<style scoped>\n",
       "    .dataframe tbody tr th:only-of-type {\n",
       "        vertical-align: middle;\n",
       "    }\n",
       "\n",
       "    .dataframe tbody tr th {\n",
       "        vertical-align: top;\n",
       "    }\n",
       "\n",
       "    .dataframe thead th {\n",
       "        text-align: right;\n",
       "    }\n",
       "</style>\n",
       "<table border=\"1\" class=\"dataframe\">\n",
       "  <thead>\n",
       "    <tr style=\"text-align: right;\">\n",
       "      <th></th>\n",
       "      <th>Name</th>\n",
       "    </tr>\n",
       "    <tr>\n",
       "      <th>Movie</th>\n",
       "      <th></th>\n",
       "    </tr>\n",
       "  </thead>\n",
       "  <tbody>\n",
       "    <tr>\n",
       "      <th>Movie 1</th>\n",
       "      <td>The Shawshank Redemption</td>\n",
       "    </tr>\n",
       "    <tr>\n",
       "      <th>Movie 2</th>\n",
       "      <td>The Godfather</td>\n",
       "    </tr>\n",
       "    <tr>\n",
       "      <th>Movie 3</th>\n",
       "      <td>The Godfather: Part II</td>\n",
       "    </tr>\n",
       "    <tr>\n",
       "      <th>Movie 4</th>\n",
       "      <td>The Dark Knight</td>\n",
       "    </tr>\n",
       "    <tr>\n",
       "      <th>Movie 5</th>\n",
       "      <td>12 Angry Men</td>\n",
       "    </tr>\n",
       "    <tr>\n",
       "      <th>Movie 6</th>\n",
       "      <td>Schindler's List</td>\n",
       "    </tr>\n",
       "    <tr>\n",
       "      <th>Movie 7</th>\n",
       "      <td>The Lord of the Rings: The Return of the King</td>\n",
       "    </tr>\n",
       "    <tr>\n",
       "      <th>Movie 8</th>\n",
       "      <td>Pulp Fiction</td>\n",
       "    </tr>\n",
       "    <tr>\n",
       "      <th>Movie 9</th>\n",
       "      <td>The Good the Bad and the Ugly</td>\n",
       "    </tr>\n",
       "    <tr>\n",
       "      <th>Movie 10</th>\n",
       "      <td>Fight Club</td>\n",
       "    </tr>\n",
       "    <tr>\n",
       "      <th>Movie 11</th>\n",
       "      <td>The Lord of the Rings: The Fellowship of the ...</td>\n",
       "    </tr>\n",
       "    <tr>\n",
       "      <th>Movie 12</th>\n",
       "      <td>Forrest Gump</td>\n",
       "    </tr>\n",
       "    <tr>\n",
       "      <th>Movie 13</th>\n",
       "      <td>Star Wars: Episode V - The Empire Strikes Back</td>\n",
       "    </tr>\n",
       "    <tr>\n",
       "      <th>Movie 14</th>\n",
       "      <td>Inception</td>\n",
       "    </tr>\n",
       "    <tr>\n",
       "      <th>Movie 15</th>\n",
       "      <td>The Lord of the Rings: The Two Towers</td>\n",
       "    </tr>\n",
       "    <tr>\n",
       "      <th>Movie 16</th>\n",
       "      <td>One Flew Over the Cuckoo's Nest</td>\n",
       "    </tr>\n",
       "    <tr>\n",
       "      <th>Movie 17</th>\n",
       "      <td>Goodfellas</td>\n",
       "    </tr>\n",
       "    <tr>\n",
       "      <th>Movie 18</th>\n",
       "      <td>The Matrix</td>\n",
       "    </tr>\n",
       "    <tr>\n",
       "      <th>Movie 19</th>\n",
       "      <td>Seven Samurai</td>\n",
       "    </tr>\n",
       "    <tr>\n",
       "      <th>Movie 20</th>\n",
       "      <td>City of God</td>\n",
       "    </tr>\n",
       "    <tr>\n",
       "      <th>Movie 21</th>\n",
       "      <td>Se7en</td>\n",
       "    </tr>\n",
       "    <tr>\n",
       "      <th>Movie 22</th>\n",
       "      <td>Star Wars: Episode IV - A New Hope</td>\n",
       "    </tr>\n",
       "    <tr>\n",
       "      <th>Movie 23</th>\n",
       "      <td>The Silence of the Lambs</td>\n",
       "    </tr>\n",
       "    <tr>\n",
       "      <th>Movie 24</th>\n",
       "      <td>It's a Wonderful Life</td>\n",
       "    </tr>\n",
       "    <tr>\n",
       "      <th>Movie 25</th>\n",
       "      <td>Life Is Beautiful</td>\n",
       "    </tr>\n",
       "    <tr>\n",
       "      <th>Movie 26</th>\n",
       "      <td>The Usual Suspects</td>\n",
       "    </tr>\n",
       "    <tr>\n",
       "      <th>Movie 27</th>\n",
       "      <td>Spirited Away</td>\n",
       "    </tr>\n",
       "    <tr>\n",
       "      <th>Movie 28</th>\n",
       "      <td>Saving Private Ryan</td>\n",
       "    </tr>\n",
       "    <tr>\n",
       "      <th>Movie 29</th>\n",
       "      <td>Leon: The Professional</td>\n",
       "    </tr>\n",
       "    <tr>\n",
       "      <th>Movie 30</th>\n",
       "      <td>The Green Mile</td>\n",
       "    </tr>\n",
       "  </tbody>\n",
       "</table>\n",
       "</div>"
      ],
      "text/plain": [
       "                                                       Name\n",
       "Movie                                                      \n",
       "Movie 1                            The Shawshank Redemption\n",
       "Movie 2                                       The Godfather\n",
       "Movie 3                              The Godfather: Part II\n",
       "Movie 4                                     The Dark Knight\n",
       "Movie 5                                        12 Angry Men\n",
       "Movie 6                                    Schindler's List\n",
       "Movie 7       The Lord of the Rings: The Return of the King\n",
       "Movie 8                                        Pulp Fiction\n",
       "Movie 9                       The Good the Bad and the Ugly\n",
       "Movie 10                                         Fight Club\n",
       "Movie 11   The Lord of the Rings: The Fellowship of the ...\n",
       "Movie 12                                       Forrest Gump\n",
       "Movie 13     Star Wars: Episode V - The Empire Strikes Back\n",
       "Movie 14                                          Inception\n",
       "Movie 15              The Lord of the Rings: The Two Towers\n",
       "Movie 16                    One Flew Over the Cuckoo's Nest\n",
       "Movie 17                                         Goodfellas\n",
       "Movie 18                                         The Matrix\n",
       "Movie 19                                      Seven Samurai\n",
       "Movie 20                                        City of God\n",
       "Movie 21                                              Se7en\n",
       "Movie 22                 Star Wars: Episode IV - A New Hope\n",
       "Movie 23                           The Silence of the Lambs\n",
       "Movie 24                              It's a Wonderful Life\n",
       "Movie 25                                  Life Is Beautiful\n",
       "Movie 26                                 The Usual Suspects\n",
       "Movie 27                                      Spirited Away\n",
       "Movie 28                                Saving Private Ryan\n",
       "Movie 29                             Leon: The Professional\n",
       "Movie 30                                     The Green Mile"
      ]
     },
     "execution_count": 28,
     "metadata": {},
     "output_type": "execute_result"
    }
   ],
   "source": [
    "names = pd.read_csv('movie_names.csv', index_col=0, names=['Movie', 'Name'])\n",
    "names"
   ]
  },
  {
   "cell_type": "code",
   "execution_count": 29,
   "metadata": {},
   "outputs": [
    {
     "data": {
      "text/plain": [
       "Name     The Usual Suspects\n",
       "Name: Movie 26, dtype: object"
      ]
     },
     "execution_count": 29,
     "metadata": {},
     "output_type": "execute_result"
    }
   ],
   "source": [
    "names.iloc[number_of_film]"
   ]
  },
  {
   "cell_type": "code",
   "execution_count": 30,
   "metadata": {},
   "outputs": [],
   "source": [
    "from SPARQLWrapper import SPARQLWrapper, JSON\n",
    "import pandas as pd\n",
    "import requests"
   ]
  },
  {
   "cell_type": "code",
   "execution_count": 31,
   "metadata": {},
   "outputs": [],
   "source": [
    "API_ENDPOINT = \"https://www.wikidata.org/w/api.php\""
   ]
  },
  {
   "cell_type": "code",
   "execution_count": 32,
   "metadata": {},
   "outputs": [],
   "source": [
    "movie_name = \"The Usual Suspects\""
   ]
  },
  {
   "cell_type": "code",
   "execution_count": 33,
   "metadata": {},
   "outputs": [],
   "source": [
    "params = {\n",
    "    'action' : 'wbsearchentities',\n",
    "    'format' : 'json',\n",
    "    'language' : 'en',\n",
    "    'search': movie_name\n",
    "}"
   ]
  },
  {
   "cell_type": "code",
   "execution_count": 34,
   "metadata": {},
   "outputs": [
    {
     "data": {
      "text/plain": [
       "'1995 German-American neo-noir crime thriller film directed by Bryan Singer'"
      ]
     },
     "execution_count": 34,
     "metadata": {},
     "output_type": "execute_result"
    }
   ],
   "source": [
    "res = requests.get(API_ENDPOINT, params = params)\n",
    "res.json()['search'][0]['description']"
   ]
  },
  {
   "cell_type": "code",
   "execution_count": 35,
   "metadata": {},
   "outputs": [
    {
     "data": {
      "text/plain": [
       "'Q132351'"
      ]
     },
     "execution_count": 35,
     "metadata": {},
     "output_type": "execute_result"
    }
   ],
   "source": [
    "res.json()['search'][0]['id']"
   ]
  },
  {
   "cell_type": "code",
   "execution_count": 36,
   "metadata": {},
   "outputs": [],
   "source": [
    "sparql = SPARQLWrapper(\"https://query.wikidata.org/sparql\")\n",
    "\n",
    "sparql_query = \"\"\"\n",
    "\n",
    "#defaultView:ImageGrid\n",
    "SELECT distinct ?actor ?actorLabel ?pic \n",
    "WHERE {\n",
    "  wd:Q132351 p:P577/psv:P577 ?dataPublicationNode.\n",
    "  ?dataPublicationNode wikibase:timeValue ?dataPublication.  #data of publication\n",
    "  \n",
    "  wd:Q132351 wdt:P161 ?actor.\n",
    "  \n",
    "  ?actor p:P569/psv:P569 ?birthDateNode.\n",
    "  ?birthDateNode wikibase:timeValue ?birthDate. #data of birth\n",
    "  \n",
    "  BIND(YEAR(?dataPublication)-YEAR(?birthDate) AS ?AgeOnDatePublication).\n",
    "\n",
    "  FILTER(?AgeOnDatePublication > 40) .\n",
    "  \n",
    "  ?actor wdt:P18 ?pic.\n",
    "         \n",
    "  SERVICE wikibase:label { bd:serviceParam wikibase:language \"[AUTO_LANGUAGE],en\" }\n",
    " }\n",
    " \n",
    "\"\"\"\n",
    "\n",
    "sparql.setQuery(sparql_query)\n",
    "\n",
    "sparql.setReturnFormat(JSON)\n",
    "results = sparql.query().convert()\n",
    "#results"
   ]
  },
  {
   "cell_type": "code",
   "execution_count": 37,
   "metadata": {},
   "outputs": [
    {
     "data": {
      "text/html": [
       "<div>\n",
       "<style scoped>\n",
       "    .dataframe tbody tr th:only-of-type {\n",
       "        vertical-align: middle;\n",
       "    }\n",
       "\n",
       "    .dataframe tbody tr th {\n",
       "        vertical-align: top;\n",
       "    }\n",
       "\n",
       "    .dataframe thead th {\n",
       "        text-align: right;\n",
       "    }\n",
       "</style>\n",
       "<table border=\"1\" class=\"dataframe\">\n",
       "  <thead>\n",
       "    <tr style=\"text-align: right;\">\n",
       "      <th></th>\n",
       "      <th>actor.value</th>\n",
       "      <th>actorLabel.value</th>\n",
       "      <th>pic.value</th>\n",
       "    </tr>\n",
       "  </thead>\n",
       "  <tbody>\n",
       "    <tr>\n",
       "      <th>0</th>\n",
       "      <td>http://www.wikidata.org/entity/Q296616</td>\n",
       "      <td>Gabriel Byrne</td>\n",
       "      <td>http://commons.wikimedia.org/wiki/Special:File...</td>\n",
       "    </tr>\n",
       "    <tr>\n",
       "      <th>1</th>\n",
       "      <td>http://www.wikidata.org/entity/Q338812</td>\n",
       "      <td>Chazz Palminteri</td>\n",
       "      <td>http://commons.wikimedia.org/wiki/Special:File...</td>\n",
       "    </tr>\n",
       "    <tr>\n",
       "      <th>2</th>\n",
       "      <td>http://www.wikidata.org/entity/Q217137</td>\n",
       "      <td>Pete Postlethwaite</td>\n",
       "      <td>http://commons.wikimedia.org/wiki/Special:File...</td>\n",
       "    </tr>\n",
       "    <tr>\n",
       "      <th>3</th>\n",
       "      <td>http://www.wikidata.org/entity/Q724804</td>\n",
       "      <td>Dan Hedaya</td>\n",
       "      <td>http://commons.wikimedia.org/wiki/Special:File...</td>\n",
       "    </tr>\n",
       "  </tbody>\n",
       "</table>\n",
       "</div>"
      ],
      "text/plain": [
       "                              actor.value    actorLabel.value  \\\n",
       "0  http://www.wikidata.org/entity/Q296616       Gabriel Byrne   \n",
       "1  http://www.wikidata.org/entity/Q338812    Chazz Palminteri   \n",
       "2  http://www.wikidata.org/entity/Q217137  Pete Postlethwaite   \n",
       "3  http://www.wikidata.org/entity/Q724804          Dan Hedaya   \n",
       "\n",
       "                                           pic.value  \n",
       "0  http://commons.wikimedia.org/wiki/Special:File...  \n",
       "1  http://commons.wikimedia.org/wiki/Special:File...  \n",
       "2  http://commons.wikimedia.org/wiki/Special:File...  \n",
       "3  http://commons.wikimedia.org/wiki/Special:File...  "
      ]
     },
     "execution_count": 37,
     "metadata": {},
     "output_type": "execute_result"
    }
   ],
   "source": [
    "results_df = pd.json_normalize(results['results']['bindings'])\n",
    "results_df[['actor.value', 'actorLabel.value', 'pic.value']].head()"
   ]
  }
 ],
 "metadata": {
  "kernelspec": {
   "display_name": "Python 3",
   "language": "python",
   "name": "python3"
  },
  "language_info": {
   "codemirror_mode": {
    "name": "ipython",
    "version": 3
   },
   "file_extension": ".py",
   "mimetype": "text/x-python",
   "name": "python",
   "nbconvert_exporter": "python",
   "pygments_lexer": "ipython3",
   "version": "3.8.5"
  }
 },
 "nbformat": 4,
 "nbformat_minor": 4
}
