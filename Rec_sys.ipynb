{
 "cells": [
  {
   "cell_type": "markdown",
   "metadata": {},
   "source": [
    "# Рекоммендательные системы\n",
    "### Дуботолкова Натали, 3530903/70301\n",
    "### Вариант 7"
   ]
  },
  {
   "cell_type": "code",
   "execution_count": 197,
   "metadata": {},
   "outputs": [],
   "source": [
    "import numpy as np\n",
    "import pandas as pd\n",
    "import json\n",
    "import math as m\n",
    "%matplotlib inline"
   ]
  },
  {
   "cell_type": "code",
   "execution_count": 157,
   "metadata": {},
   "outputs": [],
   "source": [
    "data = pd.read_csv('data.csv', index_col=0)"
   ]
  },
  {
   "cell_type": "code",
   "execution_count": 158,
   "metadata": {
    "scrolled": true
   },
   "outputs": [
    {
     "data": {
      "text/html": [
       "<div>\n",
       "<style scoped>\n",
       "    .dataframe tbody tr th:only-of-type {\n",
       "        vertical-align: middle;\n",
       "    }\n",
       "\n",
       "    .dataframe tbody tr th {\n",
       "        vertical-align: top;\n",
       "    }\n",
       "\n",
       "    .dataframe thead th {\n",
       "        text-align: right;\n",
       "    }\n",
       "</style>\n",
       "<table border=\"1\" class=\"dataframe\">\n",
       "  <thead>\n",
       "    <tr style=\"text-align: right;\">\n",
       "      <th></th>\n",
       "      <th>Movie 1</th>\n",
       "      <th>Movie 2</th>\n",
       "      <th>Movie 3</th>\n",
       "      <th>Movie 4</th>\n",
       "      <th>Movie 5</th>\n",
       "      <th>Movie 6</th>\n",
       "      <th>Movie 7</th>\n",
       "      <th>Movie 8</th>\n",
       "      <th>Movie 9</th>\n",
       "      <th>Movie 10</th>\n",
       "      <th>...</th>\n",
       "      <th>Movie 21</th>\n",
       "      <th>Movie 22</th>\n",
       "      <th>Movie 23</th>\n",
       "      <th>Movie 24</th>\n",
       "      <th>Movie 25</th>\n",
       "      <th>Movie 26</th>\n",
       "      <th>Movie 27</th>\n",
       "      <th>Movie 28</th>\n",
       "      <th>Movie 29</th>\n",
       "      <th>Movie 30</th>\n",
       "    </tr>\n",
       "  </thead>\n",
       "  <tbody>\n",
       "    <tr>\n",
       "      <th>User 1</th>\n",
       "      <td>-1</td>\n",
       "      <td>4</td>\n",
       "      <td>1</td>\n",
       "      <td>5</td>\n",
       "      <td>-1</td>\n",
       "      <td>-1</td>\n",
       "      <td>-1</td>\n",
       "      <td>1</td>\n",
       "      <td>3</td>\n",
       "      <td>-1</td>\n",
       "      <td>...</td>\n",
       "      <td>2</td>\n",
       "      <td>4</td>\n",
       "      <td>-1</td>\n",
       "      <td>-1</td>\n",
       "      <td>3</td>\n",
       "      <td>4</td>\n",
       "      <td>-1</td>\n",
       "      <td>2</td>\n",
       "      <td>4</td>\n",
       "      <td>1</td>\n",
       "    </tr>\n",
       "    <tr>\n",
       "      <th>User 2</th>\n",
       "      <td>4</td>\n",
       "      <td>5</td>\n",
       "      <td>2</td>\n",
       "      <td>3</td>\n",
       "      <td>3</td>\n",
       "      <td>4</td>\n",
       "      <td>-1</td>\n",
       "      <td>5</td>\n",
       "      <td>3</td>\n",
       "      <td>2</td>\n",
       "      <td>...</td>\n",
       "      <td>-1</td>\n",
       "      <td>2</td>\n",
       "      <td>-1</td>\n",
       "      <td>3</td>\n",
       "      <td>1</td>\n",
       "      <td>5</td>\n",
       "      <td>-1</td>\n",
       "      <td>5</td>\n",
       "      <td>2</td>\n",
       "      <td>2</td>\n",
       "    </tr>\n",
       "    <tr>\n",
       "      <th>User 3</th>\n",
       "      <td>4</td>\n",
       "      <td>2</td>\n",
       "      <td>5</td>\n",
       "      <td>4</td>\n",
       "      <td>1</td>\n",
       "      <td>5</td>\n",
       "      <td>-1</td>\n",
       "      <td>3</td>\n",
       "      <td>5</td>\n",
       "      <td>2</td>\n",
       "      <td>...</td>\n",
       "      <td>4</td>\n",
       "      <td>-1</td>\n",
       "      <td>5</td>\n",
       "      <td>4</td>\n",
       "      <td>5</td>\n",
       "      <td>1</td>\n",
       "      <td>2</td>\n",
       "      <td>1</td>\n",
       "      <td>-1</td>\n",
       "      <td>3</td>\n",
       "    </tr>\n",
       "    <tr>\n",
       "      <th>User 4</th>\n",
       "      <td>5</td>\n",
       "      <td>-1</td>\n",
       "      <td>2</td>\n",
       "      <td>-1</td>\n",
       "      <td>-1</td>\n",
       "      <td>2</td>\n",
       "      <td>4</td>\n",
       "      <td>3</td>\n",
       "      <td>2</td>\n",
       "      <td>3</td>\n",
       "      <td>...</td>\n",
       "      <td>-1</td>\n",
       "      <td>2</td>\n",
       "      <td>2</td>\n",
       "      <td>2</td>\n",
       "      <td>2</td>\n",
       "      <td>5</td>\n",
       "      <td>3</td>\n",
       "      <td>2</td>\n",
       "      <td>5</td>\n",
       "      <td>5</td>\n",
       "    </tr>\n",
       "    <tr>\n",
       "      <th>User 5</th>\n",
       "      <td>4</td>\n",
       "      <td>3</td>\n",
       "      <td>3</td>\n",
       "      <td>3</td>\n",
       "      <td>5</td>\n",
       "      <td>3</td>\n",
       "      <td>3</td>\n",
       "      <td>4</td>\n",
       "      <td>5</td>\n",
       "      <td>2</td>\n",
       "      <td>...</td>\n",
       "      <td>4</td>\n",
       "      <td>5</td>\n",
       "      <td>2</td>\n",
       "      <td>-1</td>\n",
       "      <td>3</td>\n",
       "      <td>5</td>\n",
       "      <td>1</td>\n",
       "      <td>-1</td>\n",
       "      <td>5</td>\n",
       "      <td>-1</td>\n",
       "    </tr>\n",
       "    <tr>\n",
       "      <th>User 6</th>\n",
       "      <td>2</td>\n",
       "      <td>-1</td>\n",
       "      <td>3</td>\n",
       "      <td>3</td>\n",
       "      <td>3</td>\n",
       "      <td>3</td>\n",
       "      <td>4</td>\n",
       "      <td>2</td>\n",
       "      <td>-1</td>\n",
       "      <td>1</td>\n",
       "      <td>...</td>\n",
       "      <td>5</td>\n",
       "      <td>-1</td>\n",
       "      <td>1</td>\n",
       "      <td>3</td>\n",
       "      <td>-1</td>\n",
       "      <td>4</td>\n",
       "      <td>4</td>\n",
       "      <td>5</td>\n",
       "      <td>1</td>\n",
       "      <td>2</td>\n",
       "    </tr>\n",
       "    <tr>\n",
       "      <th>User 7</th>\n",
       "      <td>4</td>\n",
       "      <td>1</td>\n",
       "      <td>4</td>\n",
       "      <td>4</td>\n",
       "      <td>1</td>\n",
       "      <td>4</td>\n",
       "      <td>5</td>\n",
       "      <td>2</td>\n",
       "      <td>2</td>\n",
       "      <td>-1</td>\n",
       "      <td>...</td>\n",
       "      <td>2</td>\n",
       "      <td>5</td>\n",
       "      <td>1</td>\n",
       "      <td>3</td>\n",
       "      <td>4</td>\n",
       "      <td>-1</td>\n",
       "      <td>4</td>\n",
       "      <td>3</td>\n",
       "      <td>1</td>\n",
       "      <td>4</td>\n",
       "    </tr>\n",
       "  </tbody>\n",
       "</table>\n",
       "<p>7 rows × 30 columns</p>\n",
       "</div>"
      ],
      "text/plain": [
       "         Movie 1   Movie 2   Movie 3   Movie 4   Movie 5   Movie 6   Movie 7  \\\n",
       "User 1        -1         4         1         5        -1        -1        -1   \n",
       "User 2         4         5         2         3         3         4        -1   \n",
       "User 3         4         2         5         4         1         5        -1   \n",
       "User 4         5        -1         2        -1        -1         2         4   \n",
       "User 5         4         3         3         3         5         3         3   \n",
       "User 6         2        -1         3         3         3         3         4   \n",
       "User 7         4         1         4         4         1         4         5   \n",
       "\n",
       "         Movie 8   Movie 9   Movie 10  ...   Movie 21   Movie 22   Movie 23  \\\n",
       "User 1         1         3         -1  ...          2          4         -1   \n",
       "User 2         5         3          2  ...         -1          2         -1   \n",
       "User 3         3         5          2  ...          4         -1          5   \n",
       "User 4         3         2          3  ...         -1          2          2   \n",
       "User 5         4         5          2  ...          4          5          2   \n",
       "User 6         2        -1          1  ...          5         -1          1   \n",
       "User 7         2         2         -1  ...          2          5          1   \n",
       "\n",
       "         Movie 24   Movie 25   Movie 26   Movie 27   Movie 28   Movie 29  \\\n",
       "User 1         -1          3          4         -1          2          4   \n",
       "User 2          3          1          5         -1          5          2   \n",
       "User 3          4          5          1          2          1         -1   \n",
       "User 4          2          2          5          3          2          5   \n",
       "User 5         -1          3          5          1         -1          5   \n",
       "User 6          3         -1          4          4          5          1   \n",
       "User 7          3          4         -1          4          3          1   \n",
       "\n",
       "         Movie 30  \n",
       "User 1          1  \n",
       "User 2          2  \n",
       "User 3          3  \n",
       "User 4          5  \n",
       "User 5         -1  \n",
       "User 6          2  \n",
       "User 7          4  \n",
       "\n",
       "[7 rows x 30 columns]"
      ]
     },
     "execution_count": 158,
     "metadata": {},
     "output_type": "execute_result"
    }
   ],
   "source": [
    "data.head(7)"
   ]
  },
  {
   "cell_type": "markdown",
   "metadata": {},
   "source": [
    "Для заданного пользователя (совпадает с вашим номером в таблице) рассчитать оценки для всех фильмов, которые он не оценил."
   ]
  },
  {
   "cell_type": "code",
   "execution_count": 159,
   "metadata": {},
   "outputs": [
    {
     "data": {
      "text/plain": [
       "2"
      ]
     },
     "execution_count": 159,
     "metadata": {},
     "output_type": "execute_result"
    }
   ],
   "source": [
    "data.iloc[2][1]"
   ]
  },
  {
   "cell_type": "code",
   "execution_count": 160,
   "metadata": {},
   "outputs": [],
   "source": [
    "k = 4\n",
    "my_user = 6"
   ]
  },
  {
   "cell_type": "code",
   "execution_count": 161,
   "metadata": {},
   "outputs": [],
   "source": [
    "def sim(u,v):\n",
    "    sum_uv, sum_u, sum_v = 0, 0, 0\n",
    "    for i in range (len(u)):\n",
    "        if u[i]>0:\n",
    "            sum_u += u[i]**2\n",
    "            if v[i]>0:\n",
    "                sum_v += v[i]**2\n",
    "                sum_uv += v[i]*u[i]\n",
    "    return round((sum_uv/(m.sqrt(sum_u)*m.sqrt(sum_v))),3)\n",
    "        "
   ]
  },
  {
   "cell_type": "code",
   "execution_count": 162,
   "metadata": {},
   "outputs": [],
   "source": [
    "all_similarities = np.zeros((40, 40))"
   ]
  },
  {
   "cell_type": "code",
   "execution_count": 163,
   "metadata": {},
   "outputs": [],
   "source": [
    "for i in range(data.shape[0]):\n",
    "    listOfU = list(data.iloc[i])\n",
    "    j = i+1\n",
    "    for j in range(j, data.shape[0]):\n",
    "        listOfV = list(data.iloc[j])\n",
    "        all_similarities[i, j] = sim(listOfU, listOfV)\n",
    "        all_similarities[j, i] = all_similarities[i, j]"
   ]
  },
  {
   "cell_type": "code",
   "execution_count": 164,
   "metadata": {},
   "outputs": [
    {
     "data": {
      "text/plain": [
       "array([[0.   , 0.736, 0.63 , ..., 0.755, 0.635, 0.813],\n",
       "       [0.736, 0.   , 0.7  , ..., 0.719, 0.628, 0.777],\n",
       "       [0.63 , 0.7  , 0.   , ..., 0.762, 0.756, 0.627],\n",
       "       ...,\n",
       "       [0.755, 0.719, 0.762, ..., 0.   , 0.749, 0.806],\n",
       "       [0.635, 0.628, 0.756, ..., 0.749, 0.   , 0.783],\n",
       "       [0.813, 0.777, 0.627, ..., 0.806, 0.783, 0.   ]])"
      ]
     },
     "execution_count": 164,
     "metadata": {},
     "output_type": "execute_result"
    }
   ],
   "source": [
    "all_similarities #матрица сходств всех пользователей"
   ]
  },
  {
   "cell_type": "code",
   "execution_count": 165,
   "metadata": {},
   "outputs": [],
   "source": [
    "my_similarities = all_similarities[my_user] #матрица сходств для моего пользователя (7-го)"
   ]
  },
  {
   "cell_type": "code",
   "execution_count": 166,
   "metadata": {},
   "outputs": [
    {
     "data": {
      "text/plain": [
       "array([0.721, 0.778, 0.815, 0.736, 0.77 , 0.789, 0.   , 0.751, 0.714,\n",
       "       0.724, 0.661, 0.786, 0.799, 0.734, 0.658, 0.839, 0.642, 0.811,\n",
       "       0.783, 0.729, 0.837, 0.674, 0.69 , 0.772, 0.71 , 0.739, 0.759,\n",
       "       0.76 , 0.763, 0.874, 0.818, 0.84 , 0.779, 0.734, 0.736, 0.791,\n",
       "       0.694, 0.828, 0.738, 0.801])"
      ]
     },
     "execution_count": 166,
     "metadata": {},
     "output_type": "execute_result"
    }
   ],
   "source": [
    "my_similarities"
   ]
  },
  {
   "cell_type": "code",
   "execution_count": 167,
   "metadata": {},
   "outputs": [
    {
     "data": {
      "text/plain": [
       "array([20, 15, 31, 29], dtype=int32)"
      ]
     },
     "execution_count": 167,
     "metadata": {},
     "output_type": "execute_result"
    }
   ],
   "source": [
    "my_LikeMinded = my_similarities.argsort()[-k:]\n",
    "my_LikeMinded #массив индексов четырёх людей, у кого со мной наибольшее сходство"
   ]
  },
  {
   "cell_type": "code",
   "execution_count": 174,
   "metadata": {},
   "outputs": [],
   "source": [
    "#средняя оценка пользователя u\n",
    "def average(u):\n",
    "    sum_u = 0\n",
    "    counter = 0\n",
    "    for i in range (len(u)):\n",
    "        if u[i]>0:\n",
    "            counter += 1\n",
    "            sum_u += u[i]\n",
    "    return round((sum_u/counter),3)"
   ]
  },
  {
   "cell_type": "code",
   "execution_count": 175,
   "metadata": {},
   "outputs": [],
   "source": [
    "# расчёт оценки на конкретный фильм\n",
    "def r_ui(film):\n",
    "    listOfU = list(data.iloc[my_user])\n",
    "    r_u = average(listOfU)\n",
    "    sum_up, sum_down = 0, 0\n",
    "    for i in range(k):\n",
    "        v = my_LikeMinded[i]\n",
    "        listOfV = list(data.iloc[v])\n",
    "        _sim = sim(listOfU, listOfV)\n",
    "        sum_up += round((_sim*(data.iloc[v][film]-average(listOfV))), 3)\n",
    "        sum_down += abs(_sim)\n",
    "    return round((r_u + sum_up/sum_down),3)"
   ]
  },
  {
   "cell_type": "code",
   "execution_count": 201,
   "metadata": {},
   "outputs": [
    {
     "data": {
      "text/plain": [
       "{'movie 10: ': 1.539,\n",
       " 'movie 12: ': 1.549,\n",
       " 'movie 17: ': 1.799,\n",
       " 'movie 18: ': 2.069,\n",
       " 'movie 26: ': 3.807}"
      ]
     },
     "execution_count": 201,
     "metadata": {},
     "output_type": "execute_result"
    }
   ],
   "source": [
    "listOfU = list(data.iloc[my_user])\n",
    "listRes = {}\n",
    "# находим индексы непросматриваемых фильмов и пытаемся предсказать оценку\n",
    "for idx, num in enumerate(listOfU):\n",
    "        if num<0:\n",
    "            listRes['movie ' + str(idx+1) + ': '] = r_ui(idx)\n",
    "listRes"
   ]
  },
  {
   "cell_type": "code",
   "execution_count": 202,
   "metadata": {},
   "outputs": [],
   "source": [
    "result = {\"user\": 7, \"1\": listRes}\n",
    "with open('result.json', 'w', encoding='utf-8') as f:\n",
    "    json.dump(result, f, ensure_ascii=False, indent=4)"
   ]
  }
 ],
 "metadata": {
  "kernelspec": {
   "display_name": "Python 3",
   "language": "python",
   "name": "python3"
  },
  "language_info": {
   "codemirror_mode": {
    "name": "ipython",
    "version": 3
   },
   "file_extension": ".py",
   "mimetype": "text/x-python",
   "name": "python",
   "nbconvert_exporter": "python",
   "pygments_lexer": "ipython3",
   "version": "3.8.5"
  }
 },
 "nbformat": 4,
 "nbformat_minor": 4
}
