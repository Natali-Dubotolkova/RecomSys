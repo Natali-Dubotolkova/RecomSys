{
 "cells": [
  {
   "cell_type": "markdown",
   "metadata": {},
   "source": [
    "# Рекоммендательные системы\n",
    "### Дуботолкова Натали, 3530903/70301\n",
    "### Вариант 7"
   ]
  },
  {
   "cell_type": "markdown",
   "metadata": {},
   "source": [
    "2.1 Для заданного пользователя (совпадает с вашим номером в таблице) рассчитать оценки для всех фильмов, которые он не оценил."
   ]
  },
  {
   "cell_type": "code",
   "execution_count": 27,
   "metadata": {},
   "outputs": [],
   "source": [
    "import numpy as np\n",
    "import pandas as pd\n",
    "import json\n",
    "import math as m\n",
    "%matplotlib inline"
   ]
  },
  {
   "cell_type": "code",
   "execution_count": 28,
   "metadata": {},
   "outputs": [],
   "source": [
    "data = pd.read_csv('data.csv', index_col=0)"
   ]
  },
  {
   "cell_type": "code",
   "execution_count": 29,
   "metadata": {
    "scrolled": true
   },
   "outputs": [
    {
     "data": {
      "text/html": [
       "<div>\n",
       "<style scoped>\n",
       "    .dataframe tbody tr th:only-of-type {\n",
       "        vertical-align: middle;\n",
       "    }\n",
       "\n",
       "    .dataframe tbody tr th {\n",
       "        vertical-align: top;\n",
       "    }\n",
       "\n",
       "    .dataframe thead th {\n",
       "        text-align: right;\n",
       "    }\n",
       "</style>\n",
       "<table border=\"1\" class=\"dataframe\">\n",
       "  <thead>\n",
       "    <tr style=\"text-align: right;\">\n",
       "      <th></th>\n",
       "      <th>Movie 1</th>\n",
       "      <th>Movie 2</th>\n",
       "      <th>Movie 3</th>\n",
       "      <th>Movie 4</th>\n",
       "      <th>Movie 5</th>\n",
       "      <th>Movie 6</th>\n",
       "      <th>Movie 7</th>\n",
       "      <th>Movie 8</th>\n",
       "      <th>Movie 9</th>\n",
       "      <th>Movie 10</th>\n",
       "      <th>...</th>\n",
       "      <th>Movie 21</th>\n",
       "      <th>Movie 22</th>\n",
       "      <th>Movie 23</th>\n",
       "      <th>Movie 24</th>\n",
       "      <th>Movie 25</th>\n",
       "      <th>Movie 26</th>\n",
       "      <th>Movie 27</th>\n",
       "      <th>Movie 28</th>\n",
       "      <th>Movie 29</th>\n",
       "      <th>Movie 30</th>\n",
       "    </tr>\n",
       "  </thead>\n",
       "  <tbody>\n",
       "    <tr>\n",
       "      <th>User 1</th>\n",
       "      <td>-1</td>\n",
       "      <td>4</td>\n",
       "      <td>1</td>\n",
       "      <td>5</td>\n",
       "      <td>-1</td>\n",
       "      <td>-1</td>\n",
       "      <td>-1</td>\n",
       "      <td>1</td>\n",
       "      <td>3</td>\n",
       "      <td>-1</td>\n",
       "      <td>...</td>\n",
       "      <td>2</td>\n",
       "      <td>4</td>\n",
       "      <td>-1</td>\n",
       "      <td>-1</td>\n",
       "      <td>3</td>\n",
       "      <td>4</td>\n",
       "      <td>-1</td>\n",
       "      <td>2</td>\n",
       "      <td>4</td>\n",
       "      <td>1</td>\n",
       "    </tr>\n",
       "    <tr>\n",
       "      <th>User 2</th>\n",
       "      <td>4</td>\n",
       "      <td>5</td>\n",
       "      <td>2</td>\n",
       "      <td>3</td>\n",
       "      <td>3</td>\n",
       "      <td>4</td>\n",
       "      <td>-1</td>\n",
       "      <td>5</td>\n",
       "      <td>3</td>\n",
       "      <td>2</td>\n",
       "      <td>...</td>\n",
       "      <td>-1</td>\n",
       "      <td>2</td>\n",
       "      <td>-1</td>\n",
       "      <td>3</td>\n",
       "      <td>1</td>\n",
       "      <td>5</td>\n",
       "      <td>-1</td>\n",
       "      <td>5</td>\n",
       "      <td>2</td>\n",
       "      <td>2</td>\n",
       "    </tr>\n",
       "    <tr>\n",
       "      <th>User 3</th>\n",
       "      <td>4</td>\n",
       "      <td>2</td>\n",
       "      <td>5</td>\n",
       "      <td>4</td>\n",
       "      <td>1</td>\n",
       "      <td>5</td>\n",
       "      <td>-1</td>\n",
       "      <td>3</td>\n",
       "      <td>5</td>\n",
       "      <td>2</td>\n",
       "      <td>...</td>\n",
       "      <td>4</td>\n",
       "      <td>-1</td>\n",
       "      <td>5</td>\n",
       "      <td>4</td>\n",
       "      <td>5</td>\n",
       "      <td>1</td>\n",
       "      <td>2</td>\n",
       "      <td>1</td>\n",
       "      <td>-1</td>\n",
       "      <td>3</td>\n",
       "    </tr>\n",
       "    <tr>\n",
       "      <th>User 4</th>\n",
       "      <td>5</td>\n",
       "      <td>-1</td>\n",
       "      <td>2</td>\n",
       "      <td>-1</td>\n",
       "      <td>-1</td>\n",
       "      <td>2</td>\n",
       "      <td>4</td>\n",
       "      <td>3</td>\n",
       "      <td>2</td>\n",
       "      <td>3</td>\n",
       "      <td>...</td>\n",
       "      <td>-1</td>\n",
       "      <td>2</td>\n",
       "      <td>2</td>\n",
       "      <td>2</td>\n",
       "      <td>2</td>\n",
       "      <td>5</td>\n",
       "      <td>3</td>\n",
       "      <td>2</td>\n",
       "      <td>5</td>\n",
       "      <td>5</td>\n",
       "    </tr>\n",
       "    <tr>\n",
       "      <th>User 5</th>\n",
       "      <td>4</td>\n",
       "      <td>3</td>\n",
       "      <td>3</td>\n",
       "      <td>3</td>\n",
       "      <td>5</td>\n",
       "      <td>3</td>\n",
       "      <td>3</td>\n",
       "      <td>4</td>\n",
       "      <td>5</td>\n",
       "      <td>2</td>\n",
       "      <td>...</td>\n",
       "      <td>4</td>\n",
       "      <td>5</td>\n",
       "      <td>2</td>\n",
       "      <td>-1</td>\n",
       "      <td>3</td>\n",
       "      <td>5</td>\n",
       "      <td>1</td>\n",
       "      <td>-1</td>\n",
       "      <td>5</td>\n",
       "      <td>-1</td>\n",
       "    </tr>\n",
       "    <tr>\n",
       "      <th>User 6</th>\n",
       "      <td>2</td>\n",
       "      <td>-1</td>\n",
       "      <td>3</td>\n",
       "      <td>3</td>\n",
       "      <td>3</td>\n",
       "      <td>3</td>\n",
       "      <td>4</td>\n",
       "      <td>2</td>\n",
       "      <td>-1</td>\n",
       "      <td>1</td>\n",
       "      <td>...</td>\n",
       "      <td>5</td>\n",
       "      <td>-1</td>\n",
       "      <td>1</td>\n",
       "      <td>3</td>\n",
       "      <td>-1</td>\n",
       "      <td>4</td>\n",
       "      <td>4</td>\n",
       "      <td>5</td>\n",
       "      <td>1</td>\n",
       "      <td>2</td>\n",
       "    </tr>\n",
       "    <tr>\n",
       "      <th>User 7</th>\n",
       "      <td>4</td>\n",
       "      <td>1</td>\n",
       "      <td>4</td>\n",
       "      <td>4</td>\n",
       "      <td>1</td>\n",
       "      <td>4</td>\n",
       "      <td>5</td>\n",
       "      <td>2</td>\n",
       "      <td>2</td>\n",
       "      <td>-1</td>\n",
       "      <td>...</td>\n",
       "      <td>2</td>\n",
       "      <td>5</td>\n",
       "      <td>1</td>\n",
       "      <td>3</td>\n",
       "      <td>4</td>\n",
       "      <td>-1</td>\n",
       "      <td>4</td>\n",
       "      <td>3</td>\n",
       "      <td>1</td>\n",
       "      <td>4</td>\n",
       "    </tr>\n",
       "  </tbody>\n",
       "</table>\n",
       "<p>7 rows × 30 columns</p>\n",
       "</div>"
      ],
      "text/plain": [
       "         Movie 1   Movie 2   Movie 3   Movie 4   Movie 5   Movie 6   Movie 7  \\\n",
       "User 1        -1         4         1         5        -1        -1        -1   \n",
       "User 2         4         5         2         3         3         4        -1   \n",
       "User 3         4         2         5         4         1         5        -1   \n",
       "User 4         5        -1         2        -1        -1         2         4   \n",
       "User 5         4         3         3         3         5         3         3   \n",
       "User 6         2        -1         3         3         3         3         4   \n",
       "User 7         4         1         4         4         1         4         5   \n",
       "\n",
       "         Movie 8   Movie 9   Movie 10  ...   Movie 21   Movie 22   Movie 23  \\\n",
       "User 1         1         3         -1  ...          2          4         -1   \n",
       "User 2         5         3          2  ...         -1          2         -1   \n",
       "User 3         3         5          2  ...          4         -1          5   \n",
       "User 4         3         2          3  ...         -1          2          2   \n",
       "User 5         4         5          2  ...          4          5          2   \n",
       "User 6         2        -1          1  ...          5         -1          1   \n",
       "User 7         2         2         -1  ...          2          5          1   \n",
       "\n",
       "         Movie 24   Movie 25   Movie 26   Movie 27   Movie 28   Movie 29  \\\n",
       "User 1         -1          3          4         -1          2          4   \n",
       "User 2          3          1          5         -1          5          2   \n",
       "User 3          4          5          1          2          1         -1   \n",
       "User 4          2          2          5          3          2          5   \n",
       "User 5         -1          3          5          1         -1          5   \n",
       "User 6          3         -1          4          4          5          1   \n",
       "User 7          3          4         -1          4          3          1   \n",
       "\n",
       "         Movie 30  \n",
       "User 1          1  \n",
       "User 2          2  \n",
       "User 3          3  \n",
       "User 4          5  \n",
       "User 5         -1  \n",
       "User 6          2  \n",
       "User 7          4  \n",
       "\n",
       "[7 rows x 30 columns]"
      ]
     },
     "execution_count": 29,
     "metadata": {},
     "output_type": "execute_result"
    }
   ],
   "source": [
    "data.head(7)"
   ]
  },
  {
   "cell_type": "code",
   "execution_count": 30,
   "metadata": {},
   "outputs": [],
   "source": [
    "k = 4\n",
    "my_user = 6"
   ]
  },
  {
   "cell_type": "code",
   "execution_count": 31,
   "metadata": {},
   "outputs": [],
   "source": [
    "def sim(u,v):\n",
    "    sum_uv, sum_u, sum_v = 0, 0, 0\n",
    "    for i in range (len(u)):\n",
    "        if u[i]>0:\n",
    "            sum_u += u[i]**2\n",
    "            if v[i]>0:\n",
    "                sum_v += v[i]**2\n",
    "                sum_uv += v[i]*u[i]\n",
    "    return round((sum_uv/(m.sqrt(sum_u)*m.sqrt(sum_v))),3)\n",
    "        "
   ]
  },
  {
   "cell_type": "code",
   "execution_count": 32,
   "metadata": {},
   "outputs": [],
   "source": [
    "all_similarities = np.zeros((40, 40))"
   ]
  },
  {
   "cell_type": "code",
   "execution_count": 33,
   "metadata": {},
   "outputs": [],
   "source": [
    "for i in range(data.shape[0]):\n",
    "    listOfU = list(data.iloc[i])\n",
    "    j = i+1\n",
    "    for j in range(j, data.shape[0]):\n",
    "        listOfV = list(data.iloc[j])\n",
    "        all_similarities[i, j] = sim(listOfU, listOfV)\n",
    "        all_similarities[j, i] = all_similarities[i, j]"
   ]
  },
  {
   "cell_type": "code",
   "execution_count": 34,
   "metadata": {},
   "outputs": [
    {
     "data": {
      "text/plain": [
       "array([[0.   , 0.736, 0.63 , ..., 0.755, 0.635, 0.813],\n",
       "       [0.736, 0.   , 0.7  , ..., 0.719, 0.628, 0.777],\n",
       "       [0.63 , 0.7  , 0.   , ..., 0.762, 0.756, 0.627],\n",
       "       ...,\n",
       "       [0.755, 0.719, 0.762, ..., 0.   , 0.749, 0.806],\n",
       "       [0.635, 0.628, 0.756, ..., 0.749, 0.   , 0.783],\n",
       "       [0.813, 0.777, 0.627, ..., 0.806, 0.783, 0.   ]])"
      ]
     },
     "execution_count": 34,
     "metadata": {},
     "output_type": "execute_result"
    }
   ],
   "source": [
    "all_similarities #матрица сходств всех пользователей"
   ]
  },
  {
   "cell_type": "code",
   "execution_count": 35,
   "metadata": {},
   "outputs": [],
   "source": [
    "my_similarities = all_similarities[my_user] #матрица сходств для моего пользователя (7-го)"
   ]
  },
  {
   "cell_type": "code",
   "execution_count": 36,
   "metadata": {},
   "outputs": [
    {
     "data": {
      "text/plain": [
       "array([0.721, 0.778, 0.815, 0.736, 0.77 , 0.789, 0.   , 0.751, 0.714,\n",
       "       0.724, 0.661, 0.786, 0.799, 0.734, 0.658, 0.839, 0.642, 0.811,\n",
       "       0.783, 0.729, 0.837, 0.674, 0.69 , 0.772, 0.71 , 0.739, 0.759,\n",
       "       0.76 , 0.763, 0.874, 0.818, 0.84 , 0.779, 0.734, 0.736, 0.791,\n",
       "       0.694, 0.828, 0.738, 0.801])"
      ]
     },
     "execution_count": 36,
     "metadata": {},
     "output_type": "execute_result"
    }
   ],
   "source": [
    "my_similarities"
   ]
  },
  {
   "cell_type": "code",
   "execution_count": 37,
   "metadata": {},
   "outputs": [
    {
     "data": {
      "text/plain": [
       "array([20, 15, 31, 29], dtype=int32)"
      ]
     },
     "execution_count": 37,
     "metadata": {},
     "output_type": "execute_result"
    }
   ],
   "source": [
    "my_LikeMinded = my_similarities.argsort()[-k:]\n",
    "my_LikeMinded #массив индексов четырёх людей, у кого со мной наибольшее сходство"
   ]
  },
  {
   "cell_type": "code",
   "execution_count": 38,
   "metadata": {},
   "outputs": [],
   "source": [
    "#средняя оценка пользователя u\n",
    "def average(u):\n",
    "    sum_u = 0\n",
    "    counter = 0\n",
    "    for i in range (len(u)):\n",
    "        if u[i]>0:\n",
    "            counter += 1\n",
    "            sum_u += u[i]\n",
    "    return round((sum_u/counter),3)"
   ]
  },
  {
   "cell_type": "code",
   "execution_count": 39,
   "metadata": {},
   "outputs": [],
   "source": [
    "# расчёт оценки на конкретный фильм\n",
    "def r_ui(film):\n",
    "    listOfU = list(data.iloc[my_user])\n",
    "    r_u = average(listOfU)\n",
    "    sum_up, sum_down = 0, 0\n",
    "    for i in range(k):\n",
    "        v = my_LikeMinded[i]\n",
    "        listOfV = list(data.iloc[v])\n",
    "        _sim = sim(listOfU, listOfV)\n",
    "        sum_up += round((_sim*(data.iloc[v][film]-average(listOfV))), 3)\n",
    "        sum_down += abs(_sim)\n",
    "    return round((r_u + sum_up/sum_down),3)"
   ]
  },
  {
   "cell_type": "code",
   "execution_count": 40,
   "metadata": {},
   "outputs": [
    {
     "data": {
      "text/plain": [
       "{'movie 10: ': 1.539,\n",
       " 'movie 12: ': 1.549,\n",
       " 'movie 17: ': 1.799,\n",
       " 'movie 18: ': 2.069,\n",
       " 'movie 26: ': 3.807}"
      ]
     },
     "execution_count": 40,
     "metadata": {},
     "output_type": "execute_result"
    }
   ],
   "source": [
    "listOfU = list(data.iloc[my_user])\n",
    "listRes = {}\n",
    "# находим индексы непросматриваемых фильмов и пытаемся предсказать оценку\n",
    "for idx, num in enumerate(listOfU):\n",
    "        if num<0:\n",
    "            listRes['movie ' + str(idx+1) + ': '] = r_ui(idx)\n",
    "listRes"
   ]
  },
  {
   "cell_type": "markdown",
   "metadata": {},
   "source": [
    "2. Порекомендовать заданному пользователю 1 фильм, который он посмотрел бы в выходной дома, если такой фильм есть в данных."
   ]
  },
  {
   "cell_type": "markdown",
   "metadata": {},
   "source": [
    "Я бы вообще не советовала ему ничего смотреть - у него слишком низкий средний балл, (~2,3) Так что высока вероятность, что предложенные фильмы ему тоже не понравятся.\n",
    "Однако, попробуем посмотреть, какие фильмы смотрели по выходным дома те 4 человека, которые имеют с ним +- такой же вкус и выберем фильм с наибольшим рейтингом."
   ]
  },
  {
   "cell_type": "code",
   "execution_count": 41,
   "metadata": {},
   "outputs": [],
   "source": [
    "days = pd.read_csv(\"context_day.csv\", index_col=0)\n",
    "places = pd.read_csv(\"context_place.csv\", index_col=0)"
   ]
  },
  {
   "cell_type": "code",
   "execution_count": 42,
   "metadata": {},
   "outputs": [
    {
     "data": {
      "text/html": [
       "<div>\n",
       "<style scoped>\n",
       "    .dataframe tbody tr th:only-of-type {\n",
       "        vertical-align: middle;\n",
       "    }\n",
       "\n",
       "    .dataframe tbody tr th {\n",
       "        vertical-align: top;\n",
       "    }\n",
       "\n",
       "    .dataframe thead th {\n",
       "        text-align: right;\n",
       "    }\n",
       "</style>\n",
       "<table border=\"1\" class=\"dataframe\">\n",
       "  <thead>\n",
       "    <tr style=\"text-align: right;\">\n",
       "      <th></th>\n",
       "      <th>Movie 1</th>\n",
       "      <th>Movie 2</th>\n",
       "      <th>Movie 3</th>\n",
       "      <th>Movie 4</th>\n",
       "      <th>Movie 5</th>\n",
       "      <th>Movie 6</th>\n",
       "      <th>Movie 7</th>\n",
       "      <th>Movie 8</th>\n",
       "      <th>Movie 9</th>\n",
       "      <th>Movie 10</th>\n",
       "      <th>...</th>\n",
       "      <th>Movie 21</th>\n",
       "      <th>Movie 22</th>\n",
       "      <th>Movie 23</th>\n",
       "      <th>Movie 24</th>\n",
       "      <th>Movie 25</th>\n",
       "      <th>Movie 26</th>\n",
       "      <th>Movie 27</th>\n",
       "      <th>Movie 28</th>\n",
       "      <th>Movie 29</th>\n",
       "      <th>Movie 30</th>\n",
       "    </tr>\n",
       "  </thead>\n",
       "  <tbody>\n",
       "    <tr>\n",
       "      <th>User 1</th>\n",
       "      <td>-1</td>\n",
       "      <td>Thu</td>\n",
       "      <td>Tue</td>\n",
       "      <td>Mon</td>\n",
       "      <td>-1</td>\n",
       "      <td>-1</td>\n",
       "      <td>-1</td>\n",
       "      <td>Tue</td>\n",
       "      <td>Sun</td>\n",
       "      <td>-1</td>\n",
       "      <td>...</td>\n",
       "      <td>Thu</td>\n",
       "      <td>Thu</td>\n",
       "      <td>-1</td>\n",
       "      <td>-1</td>\n",
       "      <td>Sun</td>\n",
       "      <td>Sat</td>\n",
       "      <td>-1</td>\n",
       "      <td>Wed</td>\n",
       "      <td>Wed</td>\n",
       "      <td>Thu</td>\n",
       "    </tr>\n",
       "    <tr>\n",
       "      <th>User 2</th>\n",
       "      <td>Mon</td>\n",
       "      <td>Wed</td>\n",
       "      <td>Mon</td>\n",
       "      <td>Sat</td>\n",
       "      <td>Sat</td>\n",
       "      <td>Thu</td>\n",
       "      <td>-1</td>\n",
       "      <td>Mon</td>\n",
       "      <td>Fri</td>\n",
       "      <td>Thu</td>\n",
       "      <td>...</td>\n",
       "      <td>-1</td>\n",
       "      <td>Sun</td>\n",
       "      <td>-1</td>\n",
       "      <td>Mon</td>\n",
       "      <td>Mon</td>\n",
       "      <td>Fri</td>\n",
       "      <td>-1</td>\n",
       "      <td>Sun</td>\n",
       "      <td>Tue</td>\n",
       "      <td>Wed</td>\n",
       "    </tr>\n",
       "    <tr>\n",
       "      <th>User 3</th>\n",
       "      <td>Tue</td>\n",
       "      <td>Wed</td>\n",
       "      <td>Sat</td>\n",
       "      <td>Tue</td>\n",
       "      <td>Sat</td>\n",
       "      <td>Mon</td>\n",
       "      <td>-1</td>\n",
       "      <td>Thu</td>\n",
       "      <td>Wed</td>\n",
       "      <td>Thu</td>\n",
       "      <td>...</td>\n",
       "      <td>Tue</td>\n",
       "      <td>-1</td>\n",
       "      <td>Wed</td>\n",
       "      <td>Thu</td>\n",
       "      <td>Tue</td>\n",
       "      <td>Thu</td>\n",
       "      <td>Wed</td>\n",
       "      <td>Wed</td>\n",
       "      <td>-1</td>\n",
       "      <td>Sun</td>\n",
       "    </tr>\n",
       "    <tr>\n",
       "      <th>User 4</th>\n",
       "      <td>Mon</td>\n",
       "      <td>-1</td>\n",
       "      <td>Wed</td>\n",
       "      <td>-1</td>\n",
       "      <td>-1</td>\n",
       "      <td>Sun</td>\n",
       "      <td>Sat</td>\n",
       "      <td>Mon</td>\n",
       "      <td>Mon</td>\n",
       "      <td>Wed</td>\n",
       "      <td>...</td>\n",
       "      <td>-1</td>\n",
       "      <td>Sun</td>\n",
       "      <td>Fri</td>\n",
       "      <td>Sat</td>\n",
       "      <td>Thu</td>\n",
       "      <td>Sat</td>\n",
       "      <td>Fri</td>\n",
       "      <td>Fri</td>\n",
       "      <td>Sat</td>\n",
       "      <td>Sun</td>\n",
       "    </tr>\n",
       "    <tr>\n",
       "      <th>User 5</th>\n",
       "      <td>Thu</td>\n",
       "      <td>Fri</td>\n",
       "      <td>Wed</td>\n",
       "      <td>Fri</td>\n",
       "      <td>Mon</td>\n",
       "      <td>Thu</td>\n",
       "      <td>Sat</td>\n",
       "      <td>Tue</td>\n",
       "      <td>Thu</td>\n",
       "      <td>Fri</td>\n",
       "      <td>...</td>\n",
       "      <td>Fri</td>\n",
       "      <td>Fri</td>\n",
       "      <td>Mon</td>\n",
       "      <td>-1</td>\n",
       "      <td>Wed</td>\n",
       "      <td>Mon</td>\n",
       "      <td>Sat</td>\n",
       "      <td>-1</td>\n",
       "      <td>Wed</td>\n",
       "      <td>-1</td>\n",
       "    </tr>\n",
       "  </tbody>\n",
       "</table>\n",
       "<p>5 rows × 30 columns</p>\n",
       "</div>"
      ],
      "text/plain": [
       "        Movie 1  Movie 2  Movie 3  Movie 4  Movie 5  Movie 6  Movie 7  \\\n",
       "User 1       -1      Thu      Tue      Mon       -1       -1       -1   \n",
       "User 2      Mon      Wed      Mon      Sat      Sat      Thu       -1   \n",
       "User 3      Tue      Wed      Sat      Tue      Sat      Mon       -1   \n",
       "User 4      Mon       -1      Wed       -1       -1      Sun      Sat   \n",
       "User 5      Thu      Fri      Wed      Fri      Mon      Thu      Sat   \n",
       "\n",
       "        Movie 8  Movie 9  Movie 10  ...  Movie 21  Movie 22  Movie 23  \\\n",
       "User 1      Tue      Sun        -1  ...       Thu       Thu        -1   \n",
       "User 2      Mon      Fri       Thu  ...        -1       Sun        -1   \n",
       "User 3      Thu      Wed       Thu  ...       Tue        -1       Wed   \n",
       "User 4      Mon      Mon       Wed  ...        -1       Sun       Fri   \n",
       "User 5      Tue      Thu       Fri  ...       Fri       Fri       Mon   \n",
       "\n",
       "        Movie 24  Movie 25  Movie 26  Movie 27  Movie 28  Movie 29  Movie 30  \n",
       "User 1        -1       Sun       Sat        -1       Wed       Wed       Thu  \n",
       "User 2       Mon       Mon       Fri        -1       Sun       Tue       Wed  \n",
       "User 3       Thu       Tue       Thu       Wed       Wed        -1       Sun  \n",
       "User 4       Sat       Thu       Sat       Fri       Fri       Sat       Sun  \n",
       "User 5        -1       Wed       Mon       Sat        -1       Wed        -1  \n",
       "\n",
       "[5 rows x 30 columns]"
      ]
     },
     "execution_count": 42,
     "metadata": {},
     "output_type": "execute_result"
    }
   ],
   "source": [
    "days.head(5)"
   ]
  },
  {
   "cell_type": "code",
   "execution_count": 43,
   "metadata": {},
   "outputs": [
    {
     "data": {
      "text/html": [
       "<div>\n",
       "<style scoped>\n",
       "    .dataframe tbody tr th:only-of-type {\n",
       "        vertical-align: middle;\n",
       "    }\n",
       "\n",
       "    .dataframe tbody tr th {\n",
       "        vertical-align: top;\n",
       "    }\n",
       "\n",
       "    .dataframe thead th {\n",
       "        text-align: right;\n",
       "    }\n",
       "</style>\n",
       "<table border=\"1\" class=\"dataframe\">\n",
       "  <thead>\n",
       "    <tr style=\"text-align: right;\">\n",
       "      <th></th>\n",
       "      <th>Movie 1</th>\n",
       "      <th>Movie 2</th>\n",
       "      <th>Movie 3</th>\n",
       "      <th>Movie 4</th>\n",
       "      <th>Movie 5</th>\n",
       "      <th>Movie 6</th>\n",
       "      <th>Movie 7</th>\n",
       "      <th>Movie 8</th>\n",
       "      <th>Movie 9</th>\n",
       "      <th>Movie 10</th>\n",
       "      <th>...</th>\n",
       "      <th>Movie 21</th>\n",
       "      <th>Movie 22</th>\n",
       "      <th>Movie 23</th>\n",
       "      <th>Movie 24</th>\n",
       "      <th>Movie 25</th>\n",
       "      <th>Movie 26</th>\n",
       "      <th>Movie 27</th>\n",
       "      <th>Movie 28</th>\n",
       "      <th>Movie 29</th>\n",
       "      <th>Movie 30</th>\n",
       "    </tr>\n",
       "    <tr>\n",
       "      <th></th>\n",
       "      <th></th>\n",
       "      <th></th>\n",
       "      <th></th>\n",
       "      <th></th>\n",
       "      <th></th>\n",
       "      <th></th>\n",
       "      <th></th>\n",
       "      <th></th>\n",
       "      <th></th>\n",
       "      <th></th>\n",
       "      <th></th>\n",
       "      <th></th>\n",
       "      <th></th>\n",
       "      <th></th>\n",
       "      <th></th>\n",
       "      <th></th>\n",
       "      <th></th>\n",
       "      <th></th>\n",
       "      <th></th>\n",
       "      <th></th>\n",
       "      <th></th>\n",
       "    </tr>\n",
       "  </thead>\n",
       "  <tbody>\n",
       "    <tr>\n",
       "      <th>User 1</th>\n",
       "      <td>-1</td>\n",
       "      <td>h</td>\n",
       "      <td>h</td>\n",
       "      <td>c</td>\n",
       "      <td>-1</td>\n",
       "      <td>-1</td>\n",
       "      <td>-1</td>\n",
       "      <td>v</td>\n",
       "      <td>h</td>\n",
       "      <td>-1</td>\n",
       "      <td>...</td>\n",
       "      <td>h</td>\n",
       "      <td>c</td>\n",
       "      <td>-1</td>\n",
       "      <td>-1</td>\n",
       "      <td>c</td>\n",
       "      <td>c</td>\n",
       "      <td>-1</td>\n",
       "      <td>v</td>\n",
       "      <td>h</td>\n",
       "      <td>c</td>\n",
       "    </tr>\n",
       "    <tr>\n",
       "      <th>User 2</th>\n",
       "      <td>v</td>\n",
       "      <td>v</td>\n",
       "      <td>v</td>\n",
       "      <td>v</td>\n",
       "      <td>h</td>\n",
       "      <td>c</td>\n",
       "      <td>-1</td>\n",
       "      <td>v</td>\n",
       "      <td>h</td>\n",
       "      <td>c</td>\n",
       "      <td>...</td>\n",
       "      <td>-1</td>\n",
       "      <td>c</td>\n",
       "      <td>-1</td>\n",
       "      <td>c</td>\n",
       "      <td>h</td>\n",
       "      <td>v</td>\n",
       "      <td>-1</td>\n",
       "      <td>v</td>\n",
       "      <td>v</td>\n",
       "      <td>c</td>\n",
       "    </tr>\n",
       "    <tr>\n",
       "      <th>User 3</th>\n",
       "      <td>v</td>\n",
       "      <td>h</td>\n",
       "      <td>c</td>\n",
       "      <td>c</td>\n",
       "      <td>c</td>\n",
       "      <td>c</td>\n",
       "      <td>-1</td>\n",
       "      <td>h</td>\n",
       "      <td>c</td>\n",
       "      <td>v</td>\n",
       "      <td>...</td>\n",
       "      <td>v</td>\n",
       "      <td>-1</td>\n",
       "      <td>v</td>\n",
       "      <td>v</td>\n",
       "      <td>h</td>\n",
       "      <td>h</td>\n",
       "      <td>h</td>\n",
       "      <td>v</td>\n",
       "      <td>-1</td>\n",
       "      <td>v</td>\n",
       "    </tr>\n",
       "    <tr>\n",
       "      <th>User 4</th>\n",
       "      <td>v</td>\n",
       "      <td>-1</td>\n",
       "      <td>h</td>\n",
       "      <td>-1</td>\n",
       "      <td>-1</td>\n",
       "      <td>h</td>\n",
       "      <td>v</td>\n",
       "      <td>v</td>\n",
       "      <td>c</td>\n",
       "      <td>h</td>\n",
       "      <td>...</td>\n",
       "      <td>-1</td>\n",
       "      <td>v</td>\n",
       "      <td>h</td>\n",
       "      <td>h</td>\n",
       "      <td>c</td>\n",
       "      <td>v</td>\n",
       "      <td>c</td>\n",
       "      <td>v</td>\n",
       "      <td>v</td>\n",
       "      <td>c</td>\n",
       "    </tr>\n",
       "    <tr>\n",
       "      <th>User 5</th>\n",
       "      <td>c</td>\n",
       "      <td>c</td>\n",
       "      <td>c</td>\n",
       "      <td>c</td>\n",
       "      <td>v</td>\n",
       "      <td>h</td>\n",
       "      <td>v</td>\n",
       "      <td>v</td>\n",
       "      <td>c</td>\n",
       "      <td>h</td>\n",
       "      <td>...</td>\n",
       "      <td>v</td>\n",
       "      <td>c</td>\n",
       "      <td>v</td>\n",
       "      <td>-1</td>\n",
       "      <td>h</td>\n",
       "      <td>c</td>\n",
       "      <td>v</td>\n",
       "      <td>-1</td>\n",
       "      <td>h</td>\n",
       "      <td>-1</td>\n",
       "    </tr>\n",
       "  </tbody>\n",
       "</table>\n",
       "<p>5 rows × 30 columns</p>\n",
       "</div>"
      ],
      "text/plain": [
       "        Movie 1  Movie 2  Movie 3  Movie 4  Movie 5  Movie 6  Movie 7  \\\n",
       "                                                                        \n",
       "User 1       -1        h        h        c       -1       -1       -1   \n",
       "User 2        v        v        v        v        h        c       -1   \n",
       "User 3        v        h        c        c        c        c       -1   \n",
       "User 4        v       -1        h       -1       -1        h        v   \n",
       "User 5        c        c        c        c        v        h        v   \n",
       "\n",
       "        Movie 8  Movie 9  Movie 10  ...  Movie 21  Movie 22  Movie 23  \\\n",
       "                                    ...                                 \n",
       "User 1        v        h        -1  ...         h         c        -1   \n",
       "User 2        v        h         c  ...        -1         c        -1   \n",
       "User 3        h        c         v  ...         v        -1         v   \n",
       "User 4        v        c         h  ...        -1         v         h   \n",
       "User 5        v        c         h  ...         v         c         v   \n",
       "\n",
       "        Movie 24  Movie 25  Movie 26  Movie 27  Movie 28  Movie 29  Movie 30  \n",
       "                                                                              \n",
       "User 1        -1         c         c        -1         v         h         c  \n",
       "User 2         c         h         v        -1         v         v         c  \n",
       "User 3         v         h         h         h         v        -1         v  \n",
       "User 4         h         c         v         c         v         v         c  \n",
       "User 5        -1         h         c         v        -1         h        -1  \n",
       "\n",
       "[5 rows x 30 columns]"
      ]
     },
     "execution_count": 43,
     "metadata": {},
     "output_type": "execute_result"
    }
   ],
   "source": [
    "places.head(5)"
   ]
  },
  {
   "cell_type": "code",
   "execution_count": 44,
   "metadata": {},
   "outputs": [
    {
     "data": {
      "text/plain": [
       "[9, 11, 16, 17, 25]"
      ]
     },
     "execution_count": 44,
     "metadata": {},
     "output_type": "execute_result"
    }
   ],
   "source": [
    "#находим фильмы (их индексы), которые пользователь ещё не смотрел\n",
    "duser = data.iloc[my_user]\n",
    "user_films = []\n",
    "for index, i in enumerate(duser):\n",
    "    if i<0:\n",
    "        user_films.append(index)\n",
    "user_films    "
   ]
  },
  {
   "cell_type": "code",
   "execution_count": 45,
   "metadata": {},
   "outputs": [
    {
     "data": {
      "text/plain": [
       "[1, 2, 4, 5, 6, 7, 8, 10, 12, 13, 16, 17, 19, 21, 25, 26, 27, 28, 29, 30]"
      ]
     },
     "execution_count": 45,
     "metadata": {},
     "output_type": "execute_result"
    }
   ],
   "source": [
    "# нашла фильмы, которые наша четверка смотрела по выходным\n",
    "allFilmsOnWeekend = []\n",
    "for user in my_LikeMinded:\n",
    "    for idx,el in enumerate(days.iloc[user]):\n",
    "        if el.strip() == 'Sat' or el.strip() == 'Sun':\n",
    "            allFilmsOnWeekend.append(idx+1)\n",
    "auxiliaryList = list(set(allFilmsOnWeekend))\n",
    "auxiliaryList"
   ]
  },
  {
   "cell_type": "code",
   "execution_count": 46,
   "metadata": {},
   "outputs": [
    {
     "name": "stdout",
     "output_type": "stream",
     "text": [
      "[16, 17, 25]\n"
     ]
    }
   ],
   "source": [
    "#нашли совпадения в этих двух списках\n",
    "films = list(set(user_films) & set(auxiliaryList))\n",
    "print(films)"
   ]
  },
  {
   "cell_type": "code",
   "execution_count": 47,
   "metadata": {},
   "outputs": [
    {
     "data": {
      "text/plain": [
       "[1, 2, 4, 5, 6, 7, 8, 10, 12, 13, 16, 17, 19, 21, 25, 26, 27, 28, 29, 30]"
      ]
     },
     "execution_count": 47,
     "metadata": {},
     "output_type": "execute_result"
    }
   ],
   "source": [
    "# нашла фильмы, которые наша четверка смотрела дома\n",
    "allFilmsAtHome = []\n",
    "for user in my_LikeMinded:\n",
    "    for idx,el in enumerate(places.iloc[user]):\n",
    "        if el.strip() == 'h':\n",
    "            allFilmsAtHome.append(idx+1)   \n",
    "auxiliaryList = list(set(allFilmsOnWeekend))\n",
    "auxiliaryList"
   ]
  },
  {
   "cell_type": "code",
   "execution_count": 48,
   "metadata": {},
   "outputs": [
    {
     "name": "stdout",
     "output_type": "stream",
     "text": [
      "[16, 17, 25]\n"
     ]
    }
   ],
   "source": [
    "#нашли совпадения в этих двух списках\n",
    "films = list(set(films) & set(auxiliaryList))\n",
    "print(films)"
   ]
  },
  {
   "cell_type": "code",
   "execution_count": 49,
   "metadata": {},
   "outputs": [
    {
     "data": {
      "text/plain": [
       "{16: 2.0, 17: 2.571, 25: 3.091}"
      ]
     },
     "execution_count": 49,
     "metadata": {},
     "output_type": "execute_result"
    }
   ],
   "source": [
    "# посчитала рейтинг каждого фильма, среди единомышленников\n",
    "count = 0\n",
    "raiting_film = {}\n",
    "temp = 0\n",
    "\n",
    "for i in films:\n",
    "    for j in my_LikeMinded:\n",
    "        raiting = data.iloc[j][i]\n",
    "#         print(i, raiting)\n",
    "        if raiting > 0:\n",
    "            temp += 1\n",
    "            count+= raiting\n",
    "    raiting_film[i] = round(count / temp, 3)\n",
    "\n",
    "raiting_film"
   ]
  },
  {
   "cell_type": "code",
   "execution_count": 50,
   "metadata": {},
   "outputs": [
    {
     "data": {
      "text/plain": [
       "{'Movie 25:': 3.091}"
      ]
     },
     "execution_count": 50,
     "metadata": {},
     "output_type": "execute_result"
    }
   ],
   "source": [
    "#нашла максимальное значение среди всех фильмов\n",
    "max_val = max(raiting_film.values())\n",
    "recom_film = {f'Movie {k}:':v for k, v in raiting_film.items() if v == max_val}\n",
    "recom_film"
   ]
  },
  {
   "cell_type": "code",
   "execution_count": 51,
   "metadata": {},
   "outputs": [],
   "source": [
    "result = {\"user\": 7, \"1\": listRes, \"2\": recom_film}\n",
    "with open('result.json', 'w', encoding='utf-8') as f:\n",
    "    json.dump(result, f, ensure_ascii=False, indent=4)"
   ]
  },
  {
   "cell_type": "code",
   "execution_count": null,
   "metadata": {},
   "outputs": [],
   "source": []
  }
 ],
 "metadata": {
  "kernelspec": {
   "display_name": "Python 3",
   "language": "python",
   "name": "python3"
  },
  "language_info": {
   "codemirror_mode": {
    "name": "ipython",
    "version": 3
   },
   "file_extension": ".py",
   "mimetype": "text/x-python",
   "name": "python",
   "nbconvert_exporter": "python",
   "pygments_lexer": "ipython3",
   "version": "3.8.5"
  }
 },
 "nbformat": 4,
 "nbformat_minor": 4
}
